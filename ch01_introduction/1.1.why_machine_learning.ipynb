{
 "cells": [
  {
   "cell_type": "markdown",
   "metadata": {
    "hide_input": false
   },
   "source": [
    "# Chapter 1. 소개\n",
    "\n",
    "\n",
    "### <span style=\"color:#26C;background:#EEE\">1.1. 왜 머신러닝인가?</span><br>\n",
    "\n",
    "- 과거에는 if-else로 AI를 개발함\n",
    "- 그러나 단점이 존재함\n",
    "\n",
    "    1. 변경이 어려움\n",
    "    2. 전문가에 의존함\n",
    "\n",
    "#### <span style=\"color:#184;background:#EEE\">1.1.1. 머신러닝으로 풀 수 있는 문제</span><br>\n",
    "\n",
    "\n",
    "- **<span style=\"color:#C22\">지도학습(Supervised Learning)</span>**<br><br>\n",
    "\n",
    "    - **특징**\n",
    "        - 가장 많이 사용되는 알고리즘\n",
    "        - 다루기 쉬운 편 (분석, 평가 등)\n",
    "        - 이미 알고 있는 입력-출력을 학습함\n",
    "        - 분류(classification), 회귀(regression) 문제<br><br>\n",
    "        \n",
    "    - **문제 예시**\n",
    "        - 편지 봉투에 손으로 쓴 우편번호 숫자 판별\n",
    "        - 의료 영상 이미지에 기반한 종양 판단\n",
    "        - 의심되는 신용카드 거래 감지\n",
    "\n",
    "\n",
    "- **<span style=\"color:#C22\">비지도학습(Unsupervised Learning)</span>**<br><br>\n",
    "\n",
    "    - **특징**\n",
    "        - 학습과정에 입력만 주어짐\n",
    "        - 군집(clustering) 문제<br><br>\n",
    "        \n",
    "    - **문제 예시**\n",
    "       - 블로그 글의 주제 구분\n",
    "       - 고객들을 취향이 비슷한 그룹으로 묶기\n",
    "       - 비정상적인 웹사이트 접근 탐지\n",
    "\n",
    "\n",
    "#### <span style=\"color:#184;background:#EEE\">1.1.2. 문제와 데이터 이해하기</span><br>\n",
    "\n",
    "\n",
    "1. 어떤 질문에 대한 답을 원하는가? 가지고 있는 데이터가 원하는 답을 줄 수 있는가?\n",
    "2. 내 질문을 머신러닝의 문제로 가장 잘 기술하는 방법은 무엇인가?\n",
    "3. 문제를 풀기에 충분한 데이터를 모았는가?\n",
    "4. 내가 추출한 데이터의 특성은 무엇이며 좋은 예측을 만들어낼 수 있을 것인가?\n",
    "5. 머신러닝 애플리케이션의 성과를 어떻게 측정할 수 있는가?\n",
    "6. 머신러닝 솔루션이 다른연구나 제품과 어떻게 협력할 수 있는가?\n"
   ]
  }
 ],
 "metadata": {
  "anaconda-cloud": {},
  "kernelspec": {
   "display_name": "Python 3",
   "language": "python",
   "name": "python3"
  },
  "language_info": {
   "codemirror_mode": {
    "name": "ipython",
    "version": 3
   },
   "file_extension": ".py",
   "mimetype": "text/x-python",
   "name": "python",
   "nbconvert_exporter": "python",
   "pygments_lexer": "ipython3",
   "version": "3.6.4"
  }
 },
 "nbformat": 4,
 "nbformat_minor": 1
}
