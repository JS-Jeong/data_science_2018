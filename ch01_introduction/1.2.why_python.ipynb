{
 "cells": [
  {
   "cell_type": "markdown",
   "metadata": {},
   "source": [
    "### <span style=\"color:#26C;background:#EEE\">1.2. 왜 파이썬인가?</span><br>\n",
    "\n",
    "- **데이터과학을 위한 표준 프로그래밍 언어 (거의 이 수준)**\n",
    "- 스크립트 언어로써의 장점 (대화형 프로그래밍)\n",
    "- 필요한 라이브러리는 거의 다 있음\n",
    "    - 데이터 적재, 시각화, 통계, 자연어 처리, 이미지 처리 등\n"
   ]
  }
 ],
 "metadata": {
  "anaconda-cloud": {},
  "kernelspec": {
   "display_name": "Python 3",
   "language": "python",
   "name": "python3"
  },
  "language_info": {
   "codemirror_mode": {
    "name": "ipython",
    "version": 3
   },
   "file_extension": ".py",
   "mimetype": "text/x-python",
   "name": "python",
   "nbconvert_exporter": "python",
   "pygments_lexer": "ipython3",
   "version": "3.6.4"
  }
 },
 "nbformat": 4,
 "nbformat_minor": 1
}
