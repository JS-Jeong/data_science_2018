{
 "cells": [
  {
   "cell_type": "markdown",
   "metadata": {},
   "source": [
    "### <span style=\"color:#26C;background:#EEE\">1.3. 싸이킷런(scikit-learn)</span><br>\n",
    "\n",
    "- 오픈 소스(Open Source)\n",
    "- 파이썬 머신러닝 라이브러리 중 하나<br><br>\n",
    "\n",
    "- 다른 머신러닝 라이브러리 예시<br><br>\n",
    "\n",
    "    - **텐서플로우(TensorFlow)**\n",
    "    - **카페(Cafe)**\n",
    "    - **토치(Torch)**\n",
    "    - **스파크(Spark)**\n",
    "    - 그 외에도 많이 있음\n",
    "        - <https://www.kdnuggets.com/2016/04/top-15-frameworks-machine-learning-experts.html>\n",
    "    \n",
    "#### <span style=\"color:#184;background:#EEE\">1.3.1. 싸이킷런 설치</span><br>\n",
    "\n",
    "- 싸이킷런을 사용하려면 필요한 라이브러리(NumPy 등)를 설치해야 함\n",
    "- 패키지 형태의 배포판을 설치하면 파이썬까지 한 번에 설치 가능<br><br>\n",
    "\n",
    "- **아나콘다(Anaconda)**\n",
    "- <https://anaconda.org/><br><br>\n",
    "\n",
    "    - 가장 대중적\n",
    "    - 싸이킷런 구동에 필요한 모든 패키지 포함\n",
    "    - 싸이킷런도 포함되어 있음\n",
    "    - 본 실습을 도와주는 **주피터노트북(Jupyter Notebook)**도 포함"
   ]
  }
 ],
 "metadata": {
  "anaconda-cloud": {},
  "kernelspec": {
   "display_name": "Python 3",
   "language": "python",
   "name": "python3"
  },
  "language_info": {
   "codemirror_mode": {
    "name": "ipython",
    "version": 3
   },
   "file_extension": ".py",
   "mimetype": "text/x-python",
   "name": "python",
   "nbconvert_exporter": "python",
   "pygments_lexer": "ipython3",
   "version": "3.6.4"
  }
 },
 "nbformat": 4,
 "nbformat_minor": 1
}
