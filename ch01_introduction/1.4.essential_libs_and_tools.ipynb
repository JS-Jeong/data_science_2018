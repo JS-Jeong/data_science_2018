{
 "cells": [
  {
   "cell_type": "code",
   "execution_count": 69,
   "metadata": {},
   "outputs": [],
   "source": [
    "# rich output 출력위치 설정\n",
    "# => 웹 브라우저에서 바로 봄\n",
    "get_ipython().run_line_magic('matplotlib', 'inline')\n",
    "\n",
    "# 색상 출력\n",
    "# 설치 방법 => pip install termcolor\n",
    "from termcolor import colored\n",
    "def c(tag, data, under=3):\n",
    "\n",
    "    val = colored(tag + ':\\n', 'magenta', attrs=['bold'])\n",
    "    t = type(data)\n",
    "    val += colored(t, 'magenta')\n",
    "    under = str(under)\n",
    "    \n",
    "    import numpy\n",
    "    if t is float or t is numpy.float64:\n",
    "        val += ('\\n{:.' + under + 'f}\\n').format(data)\n",
    "    else:\n",
    "        val += '\\n{}\\n'.format(data)\n",
    "    return val"
   ]
  },
  {
   "cell_type": "markdown",
   "metadata": {},
   "source": [
    "### <span style=\"color:#26C;background:#EEE\">1.4. 필수 라이브러리와 도구들</span><br>\n",
    "\n",
    "#### <span style=\"color:#184;background:#EEE\">1.4.1. 주피터 노트북(Jupyter Notebook)</span><br>\n",
    "\n",
    "- **프로그램 코드를 웹 브라우저에서 실행해주는 대화식 환경**\n",
    "- **탐색적 데이터 분석에 아주 적합** (많은 사람들이 사용함)\n",
    "- 참고한 서적도 주피터 노트북으로 작성함\n",
    "    - 원본 예제 코드 : <https://github.com/rickiepark/introduction_to_ml_with_python>\n",
    "\n",
    "#### <span style=\"color:#184;background:#EEE\">1.4.2. NumPy(넘파이)</span><br>\n",
    "\n",
    "- 다차원 배열을 쉽게 다룰 수 있음 (가장 중요)\n",
    "- 그 외 고수준의 수학 함수 등을 포함\n",
    "- **NumPy 배열은 싸이킷런의 기본 데이터 구조** (ndarray 클래스) (입출력 모두)"
   ]
  },
  {
   "cell_type": "code",
   "execution_count": 70,
   "metadata": {},
   "outputs": [
    {
     "name": "stdout",
     "output_type": "stream",
     "text": [
      "\u001b[1m\u001b[35mx:\n",
      "\u001b[0m\u001b[35m<class 'numpy.ndarray'>\u001b[0m\n",
      "[[1 2 3]\n",
      " [4 5 6]]\n",
      "\n"
     ]
    }
   ],
   "source": [
    "# NumPy 모듈 가져오기\n",
    "import numpy as np\n",
    "\n",
    "# NumPy 배열 생성 및 형식화된 출력\n",
    "x = np.array([[1, 2, 3], [4, 5, 6]])\n",
    "print(c('x', x))"
   ]
  },
  {
   "cell_type": "markdown",
   "metadata": {},
   "source": [
    "#### <span style=\"color:#184;background:#EEE\">1.4.3. SciPy(싸이파이)</span><br>\n",
    "\n",
    "- 과학 계산용 함수 모음\n",
    "- 고성능 선형 대수, 함수 최적화, 신호 처리, 특수한 수학 함수 등\n",
    "- **그 중에서도 가장 중요한 scipy.sparse는 희소 행렬 기능을 가짐**\n",
    "    - 싸이킷런의 데이터를 표현하는 또 다른 방법임"
   ]
  },
  {
   "cell_type": "code",
   "execution_count": 71,
   "metadata": {},
   "outputs": [
    {
     "name": "stdout",
     "output_type": "stream",
     "text": [
      "\u001b[1m\u001b[35mNumPy array:\n",
      "\u001b[0m\u001b[35m<class 'numpy.ndarray'>\u001b[0m\n",
      "[[1. 0. 0. 0.]\n",
      " [0. 1. 0. 0.]\n",
      " [0. 0. 1. 0.]\n",
      " [0. 0. 0. 1.]]\n",
      "\n",
      "\u001b[1m\u001b[35mSciPy sparse CSR matrix:\n",
      "\u001b[0m\u001b[35m<class 'scipy.sparse.csr.csr_matrix'>\u001b[0m\n",
      "  (0, 0)\t1.0\n",
      "  (1, 1)\t1.0\n",
      "  (2, 2)\t1.0\n",
      "  (3, 3)\t1.0\n",
      "\n",
      "\u001b[1m\u001b[35mdata:\n",
      "\u001b[0m\u001b[35m<class 'numpy.ndarray'>\u001b[0m\n",
      "[-99. -99. -99. -99. -99.]\n",
      "\n",
      "\u001b[1m\u001b[35mrow_indices:\n",
      "\u001b[0m\u001b[35m<class 'numpy.ndarray'>\u001b[0m\n",
      "[0 1 2 3 4]\n",
      "\n",
      "\u001b[1m\u001b[35mcol_indices:\n",
      "\u001b[0m\u001b[35m<class 'numpy.ndarray'>\u001b[0m\n",
      "[0 1 2 3 4]\n",
      "\n",
      "\u001b[1m\u001b[35mCOO representation:\n",
      "\u001b[0m\u001b[35m<class 'scipy.sparse.coo.coo_matrix'>\u001b[0m\n",
      "  (0, 0)\t-99.0\n",
      "  (1, 1)\t-99.0\n",
      "  (2, 2)\t-99.0\n",
      "  (3, 3)\t-99.0\n",
      "  (4, 4)\t-99.0\n",
      "\n"
     ]
    }
   ],
   "source": [
    "from scipy import sparse\n",
    "\n",
    "# 대각선만 1이고 나머지는 0인 행렬 생성\n",
    "eye = np.eye(4)\n",
    "print(c('NumPy array', eye))\n",
    "\n",
    "# NumPy 배열을 CSR(compressed sparse row) 형식의 SciPy 희소 행렬로 변환\n",
    "# 0이 아닌 원소만 저장됨\n",
    "sparse_matrix = sparse.csr_matrix(eye)\n",
    "print(c('SciPy sparse CSR matrix', sparse_matrix))\n",
    "\n",
    "# 희소행렬 직접 만들기 (위의 경우는 거의 없음)\n",
    "# 샘플 데이터와 그 데이터의 행렬 지수(숫자인덱스)를 생성\n",
    "data = np.ones(5) * -99\n",
    "row_indices = np.arange(5)\n",
    "col_indices = np.arange(5)\n",
    "\n",
    "print(c('data', data))\n",
    "print(c('row_indices', row_indices))\n",
    "print(c('col_indices', col_indices))\n",
    "\n",
    "# NumPy 배열을 COO(Coordinate) 포멧의 SciPy sparse 행렬로 변경\n",
    "eye_coo = sparse.coo_matrix((data, (row_indices, col_indices)))\n",
    "print(c('COO representation', eye_coo))"
   ]
  },
  {
   "cell_type": "markdown",
   "metadata": {},
   "source": [
    "#### <span style=\"color:#184;background:#EEE\">1.4.4. matplotlib</span><br>\n",
    "\n",
    "- 과학 계산용 그래프 라이브러리\n",
    "- 선 그래프, 히스토그램, 산점도 등\n",
    "- **데이터와 분석 결과를 시각화하면 새로운 통찰력을 제공해줌**"
   ]
  },
  {
   "cell_type": "code",
   "execution_count": 72,
   "metadata": {},
   "outputs": [
    {
     "name": "stdout",
     "output_type": "stream",
     "text": [
      "\u001b[1m\u001b[35mx:\n",
      "\u001b[0m\u001b[35m<class 'numpy.ndarray'>\u001b[0m\n",
      "[-10.   -9.8  -9.6  -9.4  -9.2  -9.   -8.8  -8.6  -8.4  -8.2  -8.   -7.8\n",
      "  -7.6  -7.4  -7.2  -7.   -6.8  -6.6  -6.4  -6.2  -6.   -5.8  -5.6  -5.4\n",
      "  -5.2  -5.   -4.8  -4.6  -4.4  -4.2  -4.   -3.8  -3.6  -3.4  -3.2  -3.\n",
      "  -2.8  -2.6  -2.4  -2.2  -2.   -1.8  -1.6  -1.4  -1.2  -1.   -0.8  -0.6\n",
      "  -0.4  -0.2   0.    0.2   0.4   0.6   0.8   1.    1.2   1.4   1.6   1.8\n",
      "   2.    2.2   2.4   2.6   2.8   3.    3.2   3.4   3.6   3.8   4.    4.2\n",
      "   4.4   4.6   4.8   5.    5.2   5.4   5.6   5.8   6.    6.2   6.4   6.6\n",
      "   6.8   7.    7.2   7.4   7.6   7.8   8.    8.2   8.4   8.6   8.8   9.\n",
      "   9.2   9.4   9.6   9.8  10. ]\n",
      "\n",
      "\u001b[1m\u001b[35my:\n",
      "\u001b[0m\u001b[35m<class 'numpy.ndarray'>\u001b[0m\n",
      "[ 0.54402111  0.36647913  0.17432678 -0.02477543 -0.22288991 -0.41211849\n",
      " -0.58491719 -0.7343971  -0.85459891 -0.94073056 -0.98935825 -0.99854335\n",
      " -0.96791967 -0.8987081  -0.79366786 -0.6569866  -0.49411335 -0.31154136\n",
      " -0.1165492   0.0830894   0.2794155   0.46460218  0.63126664  0.77276449\n",
      "  0.88345466  0.95892427  0.99616461  0.993691    0.95160207  0.87157577\n",
      "  0.7568025   0.61185789  0.44252044  0.2555411   0.05837414 -0.14112001\n",
      " -0.33498815 -0.51550137 -0.67546318 -0.8084964  -0.90929743 -0.97384763\n",
      " -0.9995736  -0.98544973 -0.93203909 -0.84147098 -0.71735609 -0.56464247\n",
      " -0.38941834 -0.19866933  0.          0.19866933  0.38941834  0.56464247\n",
      "  0.71735609  0.84147098  0.93203909  0.98544973  0.9995736   0.97384763\n",
      "  0.90929743  0.8084964   0.67546318  0.51550137  0.33498815  0.14112001\n",
      " -0.05837414 -0.2555411  -0.44252044 -0.61185789 -0.7568025  -0.87157577\n",
      " -0.95160207 -0.993691   -0.99616461 -0.95892427 -0.88345466 -0.77276449\n",
      " -0.63126664 -0.46460218 -0.2794155  -0.0830894   0.1165492   0.31154136\n",
      "  0.49411335  0.6569866   0.79366786  0.8987081   0.96791967  0.99854335\n",
      "  0.98935825  0.94073056  0.85459891  0.7343971   0.58491719  0.41211849\n",
      "  0.22288991  0.02477543 -0.17432678 -0.36647913 -0.54402111]\n",
      "\n"
     ]
    },
    {
     "data": {
      "text/plain": [
       "[<matplotlib.lines.Line2D at 0x27ceb61f3c8>]"
      ]
     },
     "execution_count": 72,
     "metadata": {},
     "output_type": "execute_result"
    },
    {
     "data": {
      "image/png": "[encoded data removed]",
      "text/plain": [
       "<matplotlib.figure.Figure at 0x27ceb51e128>"
      ]
     },
     "metadata": {},
     "output_type": "display_data"
    }
   ],
   "source": [
    "# 파이썬의 rich output(이미지, 도표 등)을\n",
    "# 브라우저에서 바로 확인하겠다는 선언 --> plt.show() 명령이 필요 없음\n",
    "get_ipython().run_line_magic('matplotlib', 'inline')\n",
    "\n",
    "import matplotlib.pyplot as plt\n",
    "\n",
    "# -10 ~ 10 사이를 101단계로 나타낸 배열 (입력)\n",
    "x = np.linspace(-10, 10, 101)\n",
    "# 사인 함수 적용 (출력)\n",
    "y = np.sin(x)\n",
    "\n",
    "print(c('x', x))\n",
    "print(c('y', y))\n",
    "\n",
    "# 그래프 그리기\n",
    "plt.plot(x, y, marker='o')"
   ]
  },
  {
   "cell_type": "markdown",
   "metadata": {},
   "source": [
    "#### <span style=\"color:#184;background:#EEE\">1.4.5. pandas</span><br>\n",
    "\n",
    "- 데이터 처리와 분석을 위한 파이썬 라이브러리\n",
    "- **액셀의 스프레드시트와 비슷한 테이블 형태로 다룸**\n",
    "    - 각 열의 타입이 달라도 됨 (테이블의 속성(Attribute))\n",
    "    - SQL(Structured Query Language) 지원"
   ]
  },
  {
   "cell_type": "code",
   "execution_count": 73,
   "metadata": {},
   "outputs": [
    {
     "data": {
      "text/html": [
       "<div>\n",
       "<style scoped>\n",
       "    .dataframe tbody tr th:only-of-type {\n",
       "        vertical-align: middle;\n",
       "    }\n",
       "\n",
       "    .dataframe tbody tr th {\n",
       "        vertical-align: top;\n",
       "    }\n",
       "\n",
       "    .dataframe thead th {\n",
       "        text-align: right;\n",
       "    }\n",
       "</style>\n",
       "<table border=\"1\" class=\"dataframe\">\n",
       "  <thead>\n",
       "    <tr style=\"text-align: right;\">\n",
       "      <th></th>\n",
       "      <th>Age</th>\n",
       "      <th>Location</th>\n",
       "      <th>Name</th>\n",
       "    </tr>\n",
       "  </thead>\n",
       "  <tbody>\n",
       "    <tr>\n",
       "      <th>0</th>\n",
       "      <td>24</td>\n",
       "      <td>New York</td>\n",
       "      <td>John</td>\n",
       "    </tr>\n",
       "    <tr>\n",
       "      <th>1</th>\n",
       "      <td>13</td>\n",
       "      <td>Paris</td>\n",
       "      <td>Anna</td>\n",
       "    </tr>\n",
       "    <tr>\n",
       "      <th>2</th>\n",
       "      <td>53</td>\n",
       "      <td>Berlin</td>\n",
       "      <td>Peter</td>\n",
       "    </tr>\n",
       "    <tr>\n",
       "      <th>3</th>\n",
       "      <td>33</td>\n",
       "      <td>London</td>\n",
       "      <td>Linda</td>\n",
       "    </tr>\n",
       "  </tbody>\n",
       "</table>\n",
       "</div>"
      ],
      "text/plain": [
       "   Age  Location   Name\n",
       "0   24  New York   John\n",
       "1   13     Paris   Anna\n",
       "2   53    Berlin  Peter\n",
       "3   33    London  Linda"
      ]
     },
     "metadata": {},
     "output_type": "display_data"
    },
    {
     "name": "stdout",
     "output_type": "stream",
     "text": [
      "\u001b[1m\u001b[35mdata_pandas:\n",
      "\u001b[0m\u001b[35m<class 'pandas.core.frame.DataFrame'>\u001b[0m\n",
      "   Age  Location   Name\n",
      "0   24  New York   John\n",
      "1   13     Paris   Anna\n",
      "2   53    Berlin  Peter\n",
      "3   33    London  Linda\n",
      "\n"
     ]
    },
    {
     "data": {
      "text/html": [
       "<div>\n",
       "<style scoped>\n",
       "    .dataframe tbody tr th:only-of-type {\n",
       "        vertical-align: middle;\n",
       "    }\n",
       "\n",
       "    .dataframe tbody tr th {\n",
       "        vertical-align: top;\n",
       "    }\n",
       "\n",
       "    .dataframe thead th {\n",
       "        text-align: right;\n",
       "    }\n",
       "</style>\n",
       "<table border=\"1\" class=\"dataframe\">\n",
       "  <thead>\n",
       "    <tr style=\"text-align: right;\">\n",
       "      <th></th>\n",
       "      <th>Age</th>\n",
       "      <th>Location</th>\n",
       "      <th>Name</th>\n",
       "    </tr>\n",
       "  </thead>\n",
       "  <tbody>\n",
       "    <tr>\n",
       "      <th>2</th>\n",
       "      <td>53</td>\n",
       "      <td>Berlin</td>\n",
       "      <td>Peter</td>\n",
       "    </tr>\n",
       "    <tr>\n",
       "      <th>3</th>\n",
       "      <td>33</td>\n",
       "      <td>London</td>\n",
       "      <td>Linda</td>\n",
       "    </tr>\n",
       "  </tbody>\n",
       "</table>\n",
       "</div>"
      ],
      "text/plain": [
       "   Age Location   Name\n",
       "2   53   Berlin  Peter\n",
       "3   33   London  Linda"
      ]
     },
     "metadata": {},
     "output_type": "display_data"
    }
   ],
   "source": [
    "import pandas as pd\n",
    "from IPython.display import display\n",
    "\n",
    "# create a simple dataset of people\n",
    "data = {\n",
    "    'Name': ['John', 'Anna', 'Peter', 'Linda'],\n",
    "    'Location': ['New York', 'Paris', 'Berlin', 'London'],\n",
    "    'Age': [24, 13, 53, 33]\n",
    "}\n",
    "\n",
    "data_pandas = pd.DataFrame(data)\n",
    "\n",
    "# IPython.display는 주피터 노트북에서\n",
    "# 데이터 프레임을 \"아름답게\" 출력해줌\n",
    "display(data_pandas)\n",
    "print(c('data_pandas', data_pandas)) # 일반 출력과 비교\n",
    "\n",
    "# 질의 예시\n",
    "display(data_pandas[data_pandas.Age > 30])"
   ]
  },
  {
   "cell_type": "markdown",
   "metadata": {},
   "source": [
    "#### <span style=\"color:#184;background:#EEE\">1.4.6. mglearn</span><br>\n",
    "\n",
    "- **참고 서적을 위해 별도로 만든 라이브러리**\n",
    "- 그래프나 데이터 적재와 관련한 세세한 코드를 일일이 쓰지 않아도 되게끔 함<br><br>\n",
    "\n",
    "- <span style=\"color:#C22\">앞으로 다음 모듈은 많이 쓰게 될 것</span>"
   ]
  },
  {
   "cell_type": "code",
   "execution_count": 74,
   "metadata": {},
   "outputs": [],
   "source": [
    "# numpy 모듈\n",
    "import numpy as np\n",
    "\n",
    "# scipy 모듈의 sparse 함수\n",
    "from scipy import sparse\n",
    "\n",
    "# matplotlib.pyplot 모듈\n",
    "import matplotlib.pyplot as plt\n",
    "\n",
    "# pandas 모듈\n",
    "# 보조용 IPython.display 모듈\n",
    "import pandas as pd\n",
    "from IPython.display import display\n",
    "\n",
    "# mglearn 모듈\n",
    "# 경로 문제 때문에 sys 모듈을 가져옴\n",
    "import sys\n",
    "sys.path.append('..')\n",
    "import mglearn"
   ]
  }
 ],
 "metadata": {
  "kernelspec": {
   "display_name": "Python 3",
   "language": "python",
   "name": "python3"
  },
  "language_info": {
   "codemirror_mode": {
    "name": "ipython",
    "version": 3
   },
   "file_extension": ".py",
   "mimetype": "text/x-python",
   "name": "python",
   "nbconvert_exporter": "python",
   "pygments_lexer": "ipython3",
   "version": "3.6.4"
  }
 },
 "nbformat": 4,
 "nbformat_minor": 2
}
