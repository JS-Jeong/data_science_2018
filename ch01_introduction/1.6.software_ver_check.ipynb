{
 "cells": [
  {
   "cell_type": "code",
   "execution_count": 11,
   "metadata": {},
   "outputs": [],
   "source": [
    "# rich output 출력위치 설정\n",
    "# => 웹 브라우저에서 바로 봄\n",
    "get_ipython().run_line_magic('matplotlib', 'inline')\n",
    "\n",
    "# 색상 출력\n",
    "# 설치 방법 => pip install termcolor\n",
    "from termcolor import colored\n",
    "def c(tag, data, under=3):\n",
    "\n",
    "    val = colored(tag + ':\\n', 'magenta', attrs=['bold'])\n",
    "    t = type(data)\n",
    "    val += colored(t, 'magenta')\n",
    "    under = str(under)\n",
    "    \n",
    "    import numpy\n",
    "    if t is float or t is numpy.float64:\n",
    "        val += ('\\n{:.' + under + 'f}\\n').format(data)\n",
    "    else:\n",
    "        val += '\\n{}\\n'.format(data)\n",
    "    return val"
   ]
  },
  {
   "cell_type": "markdown",
   "metadata": {},
   "source": [
    "### <span style=\"color:#26C;background:#EEE\">1.6. 소프트웨어 버전 확인</span><br>"
   ]
  },
  {
   "cell_type": "code",
   "execution_count": 12,
   "metadata": {},
   "outputs": [
    {
     "name": "stdout",
     "output_type": "stream",
     "text": [
      "\u001b[1m\u001b[35mversion of Python:\n",
      "\u001b[0m\u001b[35m<class 'str'>\u001b[0m\n",
      "3.6.4 |Anaconda, Inc.| (default, Jan 16 2018, 10:22:32) [MSC v.1900 64 bit (AMD64)]\n",
      "\n",
      "\u001b[1m\u001b[35mversion of pandas:\n",
      "\u001b[0m\u001b[35m<class 'str'>\u001b[0m\n",
      "0.22.0\n",
      "\n",
      "\u001b[1m\u001b[35mversion of matplotlib:\n",
      "\u001b[0m\u001b[35m<class 'str'>\u001b[0m\n",
      "2.1.2\n",
      "\n",
      "\u001b[1m\u001b[35mversion of NumPy:\n",
      "\u001b[0m\u001b[35m<class 'str'>\u001b[0m\n",
      "1.14.0\n",
      "\n",
      "\u001b[1m\u001b[35mversion of SciPy:\n",
      "\u001b[0m\u001b[35m<class 'str'>\u001b[0m\n",
      "1.0.0\n",
      "\n",
      "\u001b[1m\u001b[35mversion of IPython:\n",
      "\u001b[0m\u001b[35m<class 'str'>\u001b[0m\n",
      "6.2.1\n",
      "\n",
      "\u001b[1m\u001b[35mversion of scikit-learn:\n",
      "\u001b[0m\u001b[35m<class 'str'>\u001b[0m\n",
      "0.19.1\n",
      "\n"
     ]
    }
   ],
   "source": [
    "import sys\n",
    "print(c('version of Python', sys.version))\n",
    "\n",
    "import pandas as pd\n",
    "print(c('version of pandas', pd.__version__))\n",
    "\n",
    "import matplotlib\n",
    "print(c('version of matplotlib', matplotlib.__version__))\n",
    "\n",
    "import numpy as np\n",
    "print(c('version of NumPy', np.__version__))\n",
    "\n",
    "import scipy as sp\n",
    "print(c('version of SciPy', sp.__version__))\n",
    "\n",
    "import IPython\n",
    "print(c('version of IPython', IPython.__version__))\n",
    "\n",
    "import sklearn\n",
    "print(c('version of scikit-learn', sklearn.__version__))"
   ]
  }
 ],
 "metadata": {
  "kernelspec": {
   "display_name": "Python 3",
   "language": "python",
   "name": "python3"
  },
  "language_info": {
   "codemirror_mode": {
    "name": "ipython",
    "version": 3
   },
   "file_extension": ".py",
   "mimetype": "text/x-python",
   "name": "python",
   "nbconvert_exporter": "python",
   "pygments_lexer": "ipython3",
   "version": "3.6.4"
  }
 },
 "nbformat": 4,
 "nbformat_minor": 2
}
