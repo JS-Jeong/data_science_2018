{
 "cells": [
  {
   "cell_type": "markdown",
   "metadata": {
    "hide_input": false
   },
   "source": [
    "# Chapter 2. 지도학습\n",
    "\n",
    "\n",
    "### <span style=\"color:#26C;background:#EEE\">2.1. 분류와 회귀</span><br>\n",
    "\n",
    "- **분류(classification)**\n",
    "\n",
    "    - <span style=\"color:#C22\">미리 정의된, 가능성 있는 여러 클래스 레이블 중 하나를 예측</span>\n",
    "    - 이진(binary) 또는 다중(multiclass) 분류\n",
    "        - 이진 클래스 예시: 예/아니오, 양성/음성<br><br>\n",
    "\n",
    "- **회귀(regression)**\n",
    "\n",
    "    - <span style=\"color:#C22\">연속적인 숫자, 실수(real number)를 예측</span>\n",
    "    - 연소득: 3000만원 예측 vs 3001만원 예측 => 차이 없음"
   ]
  }
 ],
 "metadata": {
  "anaconda-cloud": {},
  "kernelspec": {
   "display_name": "Python 3",
   "language": "python",
   "name": "python3"
  },
  "language_info": {
   "codemirror_mode": {
    "name": "ipython",
    "version": 3
   },
   "file_extension": ".py",
   "mimetype": "text/x-python",
   "name": "python",
   "nbconvert_exporter": "python",
   "pygments_lexer": "ipython3",
   "version": "3.6.4"
  }
 },
 "nbformat": 4,
 "nbformat_minor": 1
}
