{
 "cells": [
  {
   "cell_type": "markdown",
   "metadata": {
    "hide_input": false
   },
   "source": [
    "### <span style=\"color:#26C;background:#EEE\">2.2. 일반화, 과대적합, 과소적합</span><br>\n",
    "\n",
    "- **일반화(generalization)**<br><br>\n",
    "\n",
    "    - 모델에게 처음 보는 데이터가 주어져도 정확히 예측하는 것\n",
    "    - 훈련 세트에서 테스트 세트로 일반화됐다고 함<br><br>\n",
    "\n",
    "- **과대적합(overfitting)**<br><br>\n",
    "\n",
    "    - 모델이 훈련 데이터에 너무 \"익숙\"해지는 현상\n",
    "    - 대게 모델이 매우 복잡함 (e.g. 가중치가 너무 튀거나...)\n",
    "    - **훈련 데이터 점수는 100점에 가깝지만 테스트 데이터 점수는 낮음**<br><br>\n",
    "\n",
    "- **과소적합(underfitting)**<br><br>\n",
    "\n",
    "    - \"기초적인\" 학습조차 안된 모델의 경우\n",
    "    - **훈련 데이터 점수와 테스트 데이터 점수 모두 낮음**<br><br>\n",
    "    \n",
    "<img src=\"../images/overunderfit_graph.png\" style=\"margin:0;width:500px\"/><br>\n",
    "\n",
    "#### <span style=\"color:#184;background:#EEE\">2.2.1. 모델 복잡도와 데이터셋 크기의 관계</span><br>\n",
    "\n",
    "- 모델의 복잡도는 훈련 셋에 단긴 데이터의 다양성과 관련있음\n",
    "- **데이터가 많고 다양한 유형일수록 모델이 복잡(정확)해짐 = 과대적합 방지**"
   ]
  }
 ],
 "metadata": {
  "anaconda-cloud": {},
  "kernelspec": {
   "display_name": "Python 3",
   "language": "python",
   "name": "python3"
  },
  "language_info": {
   "codemirror_mode": {
    "name": "ipython",
    "version": 3
   },
   "file_extension": ".py",
   "mimetype": "text/x-python",
   "name": "python",
   "nbconvert_exporter": "python",
   "pygments_lexer": "ipython3",
   "version": "3.6.4"
  }
 },
 "nbformat": 4,
 "nbformat_minor": 1
}
