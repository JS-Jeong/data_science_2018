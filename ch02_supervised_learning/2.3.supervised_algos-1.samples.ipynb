{
 "cells": [
  {
   "cell_type": "code",
   "execution_count": 7,
   "metadata": {},
   "outputs": [],
   "source": [
    "# rich output 출력위치 설정\n",
    "# => 웹 브라우저에서 바로 봄\n",
    "get_ipython().run_line_magic('matplotlib', 'inline')\n",
    "\n",
    "# 색상 출력\n",
    "# 설치 방법 => pip install termcolor\n",
    "from termcolor import colored\n",
    "def c(tag, data, under=3):\n",
    "\n",
    "    val = colored(tag + ':\\n', 'magenta', attrs=['bold'])\n",
    "    t = type(data)\n",
    "    val += colored(t, 'magenta')\n",
    "    under = str(under)\n",
    "    \n",
    "    import numpy\n",
    "    if t is float or t is numpy.float64:\n",
    "        val += ('\\n{:.' + under + 'f}\\n').format(data)\n",
    "    else:\n",
    "        val += '\\n{}\\n'.format(data)\n",
    "    return val"
   ]
  },
  {
   "cell_type": "markdown",
   "metadata": {
    "hide_input": false
   },
   "source": [
    "### <span style=\"color:#26C;background:#EEE\">2.3. 지도학습 알고리즘</span><br>\n",
    "\n",
    "#### <span style=\"color:#184;background:#EEE\">2.3.1. 예제에 사용할 데이터셋</span><br>\n",
    "\n",
    "- **<span style=\"color:#C22\">forge</span>**\n",
    "    - 인위적, 두 개의 특성, 이진 분류문제"
   ]
  },
  {
   "cell_type": "code",
   "execution_count": 8,
   "metadata": {},
   "outputs": [
    {
     "name": "stdout",
     "output_type": "stream",
     "text": [
      "\u001b[1m\u001b[35mX shape:\n",
      "\u001b[0m\u001b[35m<class 'tuple'>\u001b[0m\n",
      "(26, 2)\n",
      "\n",
      "\u001b[1m\u001b[35my shape:\n",
      "\u001b[0m\u001b[35m<class 'tuple'>\u001b[0m\n",
      "(26,)\n",
      "\n",
      "\u001b[1m\u001b[35mX data:\n",
      "\u001b[0m\u001b[35m<class 'numpy.ndarray'>\u001b[0m\n",
      "[[ 9.96346605  4.59676542]\n",
      " [11.0329545  -0.16816717]\n",
      " [11.54155807  5.21116083]\n",
      " [ 8.69289001  1.54322016]\n",
      " [ 8.1062269   4.28695977]\n",
      " [ 8.30988863  4.80623966]\n",
      " [11.93027136  4.64866327]\n",
      " [ 9.67284681 -0.20283165]\n",
      " [ 8.34810316  5.13415623]\n",
      " [ 8.67494727  4.47573059]]\n",
      "\n",
      "\u001b[1m\u001b[35my data:\n",
      "\u001b[0m\u001b[35m<class 'numpy.ndarray'>\u001b[0m\n",
      "[1 0 1 0 0 1 1 0 1 1]\n",
      "\n"
     ]
    },
    {
     "data": {
      "image/png": "[encoded data removed]",
      "text/plain": [
       "<matplotlib.figure.Figure at 0x23563345908>"
      ]
     },
     "metadata": {},
     "output_type": "display_data"
    }
   ],
   "source": [
    "import sys\n",
    "sys.path.append('..')\n",
    "import mglearn\n",
    "import matplotlib.pyplot as plt\n",
    "\n",
    "X, y = mglearn.datasets.make_forge()\n",
    "\n",
    "print(c('X shape', X.shape))\n",
    "print(c('y shape', y.shape))\n",
    "\n",
    "# 10개만\n",
    "print(c('X data', X[:10, :]))\n",
    "print(c('y data', y[:10]))\n",
    "\n",
    "plt.figure(figsize=(8, 5))\n",
    "mglearn.discrete_scatter(X[:, 0], X[:, 1], y)\n",
    "plt.legend(['class 0', 'class 1'], loc=4)\n",
    "plt.xlabel('first feature')\n",
    "plt.ylabel('second feature')\n",
    "plt.show()"
   ]
  },
  {
   "cell_type": "markdown",
   "metadata": {
    "hide_input": false
   },
   "source": [
    "- **<span style=\"color:#C22\">wave</span>**\n",
    "    - 인위적, 하나의 특성, 회귀문제 = 연속적인 타겟(출력)"
   ]
  },
  {
   "cell_type": "code",
   "execution_count": 9,
   "metadata": {
    "scrolled": false
   },
   "outputs": [
    {
     "name": "stdout",
     "output_type": "stream",
     "text": [
      "\u001b[1m\u001b[35mX shape:\n",
      "\u001b[0m\u001b[35m<class 'tuple'>\u001b[0m\n",
      "(40, 1)\n",
      "\n",
      "\u001b[1m\u001b[35my shape:\n",
      "\u001b[0m\u001b[35m<class 'tuple'>\u001b[0m\n",
      "(40,)\n",
      "\n",
      "\u001b[1m\u001b[35mX data:\n",
      "\u001b[0m\u001b[35m<class 'numpy.ndarray'>\u001b[0m\n",
      "[[-0.75275929]\n",
      " [ 2.70428584]\n",
      " [ 1.39196365]\n",
      " [ 0.59195091]\n",
      " [-2.06388816]\n",
      " [-2.06403288]\n",
      " [-2.65149833]\n",
      " [ 2.19705687]\n",
      " [ 0.60669007]\n",
      " [ 1.24843547]]\n",
      "\n",
      "\u001b[1m\u001b[35my data:\n",
      "\u001b[0m\u001b[35m<class 'numpy.ndarray'>\u001b[0m\n",
      "[-0.44822073  0.33122576  0.77932073  0.03497884 -1.38773632 -2.47196233\n",
      " -1.52730805  1.49417157  1.00032374  0.22956153]\n",
      "\n"
     ]
    },
    {
     "data": {
      "image/png": "[encoded data removed]",
      "text/plain": [
       "<matplotlib.figure.Figure at 0x23563345c50>"
      ]
     },
     "metadata": {},
     "output_type": "display_data"
    }
   ],
   "source": [
    "import sys\n",
    "sys.path.append('..')\n",
    "import mglearn\n",
    "import matplotlib.pyplot as plt\n",
    "\n",
    "X, y = mglearn.datasets.make_wave(n_samples=40)\n",
    "\n",
    "print(c('X shape', X.shape))\n",
    "print(c('y shape', y.shape))\n",
    "\n",
    "# 10개만\n",
    "print(c('X data', X[:10, :]))\n",
    "print(c('y data', y[:10]))\n",
    "\n",
    "plt.figure(figsize=(8, 5))\n",
    "plt.plot(X, y, 'o')\n",
    "plt.ylim(-3, 3)\n",
    "plt.xlabel('feature')\n",
    "plt.ylabel('target')\n",
    "plt.show()"
   ]
  },
  {
   "cell_type": "markdown",
   "metadata": {
    "hide_input": false
   },
   "source": [
    "- **<span style=\"color:#C22\">Wisconsin Breast Cancer</span>**\n",
    "    - 위스콘신 유방암 데이터\n",
    "    - 실제, 30개의 특성, 이진 분류문제\n",
    "        - 양성/악성(benign/malignant) 구별"
   ]
  },
  {
   "cell_type": "code",
   "execution_count": 10,
   "metadata": {},
   "outputs": [
    {
     "name": "stdout",
     "output_type": "stream",
     "text": [
      "\u001b[1m\u001b[35mcancer keys:\n",
      "\u001b[0m\u001b[35m<class 'dict_keys'>\u001b[0m\n",
      "dict_keys(['data', 'target', 'target_names', 'DESCR', 'feature_names'])\n",
      "\n",
      "\u001b[1m\u001b[35mX shape:\n",
      "\u001b[0m\u001b[35m<class 'tuple'>\u001b[0m\n",
      "(569, 30)\n",
      "\n",
      "\u001b[1m\u001b[35my shape:\n",
      "\u001b[0m\u001b[35m<class 'tuple'>\u001b[0m\n",
      "(569,)\n",
      "\n",
      "\u001b[1m\u001b[35mnum of samples:\n",
      "\u001b[0m\u001b[35m<class 'dict'>\u001b[0m\n",
      "{'malignant': 212, 'benign': 357}\n",
      "\n",
      "\u001b[1m\u001b[35mnum of features:\n",
      "\u001b[0m\u001b[35m<class 'int'>\u001b[0m\n",
      "30\n",
      "\n",
      "\u001b[1m\u001b[35mfeature names:\n",
      "\u001b[0m\u001b[35m<class 'numpy.ndarray'>\u001b[0m\n",
      "['mean radius' 'mean texture' 'mean perimeter' 'mean area'\n",
      " 'mean smoothness' 'mean compactness' 'mean concavity'\n",
      " 'mean concave points' 'mean symmetry' 'mean fractal dimension'\n",
      " 'radius error' 'texture error' 'perimeter error' 'area error'\n",
      " 'smoothness error' 'compactness error' 'concavity error'\n",
      " 'concave points error' 'symmetry error' 'fractal dimension error'\n",
      " 'worst radius' 'worst texture' 'worst perimeter' 'worst area'\n",
      " 'worst smoothness' 'worst compactness' 'worst concavity'\n",
      " 'worst concave points' 'worst symmetry' 'worst fractal dimension']\n",
      "\n"
     ]
    }
   ],
   "source": [
    "import numpy as np\n",
    "from sklearn.datasets import load_breast_cancer\n",
    "cancer = load_breast_cancer()\n",
    "\n",
    "print(c('cancer keys', cancer.keys()))\n",
    "print(c('X shape', cancer.data.shape))\n",
    "print(c('y shape', cancer.target.shape))\n",
    "print(c('num of samples', {n: v for n, v in zip(cancer.target_names, np.bincount(cancer.target))}))\n",
    "print(c('num of features', len(cancer.feature_names)))\n",
    "print(c('feature names', cancer.feature_names))"
   ]
  },
  {
   "cell_type": "markdown",
   "metadata": {
    "hide_input": false
   },
   "source": [
    "- **<span style=\"color:#C22\">Boston Housing</span>**\n",
    "    - 보스턴 주택가격 데이터\n",
    "    - 실제, 13개의 특성, 회귀문제\n",
    "        - 평균주택가격 예측"
   ]
  },
  {
   "cell_type": "code",
   "execution_count": 11,
   "metadata": {},
   "outputs": [
    {
     "name": "stdout",
     "output_type": "stream",
     "text": [
      "\u001b[1m\u001b[35mboston keys:\n",
      "\u001b[0m\u001b[35m<class 'dict_keys'>\u001b[0m\n",
      "dict_keys(['data', 'target', 'feature_names', 'DESCR'])\n",
      "\n",
      "\u001b[1m\u001b[35mX shape:\n",
      "\u001b[0m\u001b[35m<class 'tuple'>\u001b[0m\n",
      "(506, 13)\n",
      "\n",
      "\u001b[1m\u001b[35my shape:\n",
      "\u001b[0m\u001b[35m<class 'tuple'>\u001b[0m\n",
      "(506,)\n",
      "\n",
      "\u001b[1m\u001b[35mnum of features:\n",
      "\u001b[0m\u001b[35m<class 'int'>\u001b[0m\n",
      "13\n",
      "\n",
      "\u001b[1m\u001b[35mfeature names:\n",
      "\u001b[0m\u001b[35m<class 'numpy.ndarray'>\u001b[0m\n",
      "['CRIM' 'ZN' 'INDUS' 'CHAS' 'NOX' 'RM' 'AGE' 'DIS' 'RAD' 'TAX' 'PTRATIO'\n",
      " 'B' 'LSTAT']\n",
      "\n"
     ]
    }
   ],
   "source": [
    "from sklearn.datasets import load_boston\n",
    "boston = load_boston()\n",
    "\n",
    "print(c('boston keys', boston.keys()))\n",
    "print(c('X shape', boston.data.shape))\n",
    "print(c('y shape', boston.target.shape))\n",
    "print(c('num of features', len(boston.feature_names)))\n",
    "print(c('feature names', boston.feature_names))"
   ]
  },
  {
   "cell_type": "markdown",
   "metadata": {
    "hide_input": false
   },
   "source": [
    "- load_extended_boston 함수를 사용하면 \"확장된\" 특성의 boston 데이터를 가져올 수 있음\n",
    "- 특성 간의 곱을 새로운 특성으로 간주 => **특성 공학(feature engineering)** 이라고 함\n",
    "- 자세한 내용은 4장에서..."
   ]
  },
  {
   "cell_type": "code",
   "execution_count": 12,
   "metadata": {
    "scrolled": true
   },
   "outputs": [
    {
     "name": "stdout",
     "output_type": "stream",
     "text": [
      "\u001b[1m\u001b[35mX shape:\n",
      "\u001b[0m\u001b[35m<class 'tuple'>\u001b[0m\n",
      "(506, 104)\n",
      "\n",
      "\u001b[1m\u001b[35my shape:\n",
      "\u001b[0m\u001b[35m<class 'tuple'>\u001b[0m\n",
      "(506,)\n",
      "\n"
     ]
    }
   ],
   "source": [
    "import sys\n",
    "sys.path.append('..')\n",
    "import mglearn\n",
    "\n",
    "X, y = mglearn.datasets.load_extended_boston()\n",
    "\n",
    "print(c('X shape', X.shape))\n",
    "print(c('y shape', y.shape))"
   ]
  }
 ],
 "metadata": {
  "anaconda-cloud": {},
  "kernelspec": {
   "display_name": "Python 3",
   "language": "python",
   "name": "python3"
  },
  "language_info": {
   "codemirror_mode": {
    "name": "ipython",
    "version": 3
   },
   "file_extension": ".py",
   "mimetype": "text/x-python",
   "name": "python",
   "nbconvert_exporter": "python",
   "pygments_lexer": "ipython3",
   "version": "3.6.4"
  }
 },
 "nbformat": 4,
 "nbformat_minor": 1
}
