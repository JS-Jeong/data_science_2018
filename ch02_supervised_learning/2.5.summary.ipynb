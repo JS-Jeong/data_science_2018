{
 "cells": [
  {
   "cell_type": "markdown",
   "metadata": {},
   "source": [
    "### 2.5 Summary and Outlook\n",
    "- 최근접 이웃\n",
    "- 선형 모델\n",
    "- 나이브 베이즈\n",
    "- 결정 트리\n",
    "- 랜덤 포레스트\n",
    "- 그레디언트 부스팅 결정 트리\n",
    "- 서포트 벡터 머신\n",
    "- 신경망"
   ]
  }
 ],
 "metadata": {
  "kernelspec": {
   "display_name": "Python 3",
   "language": "python",
   "name": "python3"
  },
  "language_info": {
   "codemirror_mode": {
    "name": "ipython",
    "version": 3
   },
   "file_extension": ".py",
   "mimetype": "text/x-python",
   "name": "python",
   "nbconvert_exporter": "python",
   "pygments_lexer": "ipython3",
   "version": "3.6.4"
  },
  "latex_metadata": {
   "author": "Andreas C. M\\\"ller",
   "title": "Machine Learning with Python"
  }
 },
 "nbformat": 4,
 "nbformat_minor": 1
}
