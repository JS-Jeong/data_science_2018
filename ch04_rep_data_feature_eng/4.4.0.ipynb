{
 "cells": [
  {
   "cell_type": "code",
   "execution_count": 2,
   "metadata": {
    "hide_input": false
   },
   "outputs": [],
   "source": [
    "get_ipython().run_line_magic('matplotlib', 'inline')"
   ]
  },
  {
   "cell_type": "markdown",
   "metadata": {},
   "source": [
    "### 4.4 Univariate Non-linear transformations\n",
    "- log, exp, sin 함수를 사용한 특성 변환\n",
    "  - 선형 모델 또는 신경망의 성능을 올리는 데 활용\n",
    "  - 데이터셋에 주기적인 패턴이 있을 때 적합\n",
    "  - 정수 카운트 데이터에 적합\n",
    "    - 예. \"사용자가 얼마나 자주 로그인하는가?\" 같은 특성\n",
    "    - 카운트에는 음수가 없으며, 임의의 통계 패턴을 따르는 경우가 많음\n",
    "    - 일반적으로 정규 분포를 따를 때 모델 성능이 좋음"
   ]
  },
  {
   "cell_type": "markdown",
   "metadata": {},
   "source": [
    "- 인위적으로 카운트 데이터 만들기\n",
    "  - 1) 표준 정규 분포를 따르는 랜덤 데이터 만들기\n",
    "  - 2) 해당 랜덤 데이터 \\* 10 을 평균으로 지니는 Poisson 분포를 따르는 데이터 만들기"
   ]
  },
  {
   "cell_type": "code",
   "execution_count": 4,
   "metadata": {},
   "outputs": [
    {
     "name": "stdout",
     "output_type": "stream",
     "text": [
      "X_org.shape: (1000, 3)\n",
      "w.shape: (3,)\n",
      "\n",
      "X.shape: (1000, 3)\n",
      "y.shape: (1000,)\n",
      "\n",
      "X_org[:10, 0]: [ 1.76405235  2.2408932   0.95008842  0.4105985   0.76103773  0.33367433\n",
      "  0.3130677   0.6536186   2.26975462 -0.18718385]\n",
      "X[:10, 0] [ 56  81  25  20  27  18  12  21 109   7]\n",
      "y[:10] [2.92614361 4.74436373 1.4394878  0.56962109 1.23092405 1.4048387\n",
      " 0.30534339 1.61798577 2.78397106 0.40526824]\n"
     ]
    }
   ],
   "source": [
    "import numpy as np\n",
    "\n",
    "rnd = np.random.RandomState(0)\n",
    "X_org = rnd.normal(size=(1000, 3))\n",
    "w = rnd.normal(size=3)\n",
    "print(\"X_org.shape:\", X_org.shape)\n",
    "print(\"w.shape:\", w.shape)\n",
    "print()\n",
    "\n",
    "X = rnd.poisson(lam = 10 * np.exp(X_org))\n",
    "y = np.dot(X_org, w)\n",
    "print(\"X.shape:\", X.shape)\n",
    "print(\"y.shape:\", y.shape)\n",
    "print()\n",
    "\n",
    "print(\"X_org[:10, 0]:\", X_org[:10, 0])\n",
    "print(\"X[:10, 0]\", X[:10, 0])\n",
    "print(\"y[:10]\", y[:10])"
   ]
  },
  {
   "cell_type": "markdown",
   "metadata": {},
   "source": [
    "- bincount로 각 구간별 데이터 개수 세기"
   ]
  },
  {
   "cell_type": "code",
   "execution_count": 5,
   "metadata": {},
   "outputs": [
    {
     "name": "stdout",
     "output_type": "stream",
     "text": [
      "Number of feature appearances:\n",
      "[28 38 68 48 61 59 45 56 37 40 35 34 36 26 23 26 27 21 23 23 18 21 10  9\n",
      " 17  9  7 14 12  7  3  8  4  5  5  3  4  2  4  1  1  3  2  5  3  8  2  5\n",
      "  2  1  2  3  3  2  2  3  3  0  1  2  1  0  0  3  1  0  0  0  1  3  0  1\n",
      "  0  2  0  1  1  0  0  0  0  1  0  0  2  2  0  1  1  0  0  0  0  1  1  0\n",
      "  0  0  0  0  0  0  1  0  0  0  0  0  1  1  0  0  1  0  0  0  0  0  0  0\n",
      "  1  0  0  0  0  1  0  0  0  0  0  0  0  0  0  0  0  0  0  0  1]\n"
     ]
    }
   ],
   "source": [
    "print(\"Number of feature appearances:\\n{}\".format(np.bincount(X[:, 0])))"
   ]
  },
  {
   "cell_type": "code",
   "execution_count": 7,
   "metadata": {},
   "outputs": [
    {
     "data": {
      "text/plain": [
       "Text(0.5,0,'Value')"
      ]
     },
     "execution_count": 7,
     "metadata": {},
     "output_type": "execute_result"
    },
    {
     "data": {
      "image/png": "[encoded data removed]",
      "text/plain": [
       "<matplotlib.figure.Figure at 0x172e57d4a20>"
      ]
     },
     "metadata": {},
     "output_type": "display_data"
    }
   ],
   "source": [
    "import matplotlib.pyplot as plt\n",
    "bins = np.bincount(X[:, 0])\n",
    "plt.bar(range(len(bins)), bins, color='grey')\n",
    "plt.ylabel(\"Number of appearances\")\n",
    "plt.xlabel(\"Value\")"
   ]
  },
  {
   "cell_type": "markdown",
   "metadata": {},
   "source": [
    "- 위와 같은 데이터에 선형회귀 모델인 Ridge 적용하기 \n",
    "  - 성능이 좋지 못함."
   ]
  },
  {
   "cell_type": "code",
   "execution_count": 9,
   "metadata": {},
   "outputs": [
    {
     "name": "stdout",
     "output_type": "stream",
     "text": [
      "Test score: 0.622\n"
     ]
    }
   ],
   "source": [
    "from sklearn.linear_model import Ridge\n",
    "from sklearn.model_selection import train_test_split\n",
    "X_train, X_test, y_train, y_test = train_test_split(X, y, random_state=0)\n",
    "score = Ridge().fit(X_train, y_train).score(X_test, y_test)\n",
    "print(\"Test score: {:.3f}\".format(score))"
   ]
  },
  {
   "cell_type": "markdown",
   "metadata": {},
   "source": [
    "- 원본 데이터 X를 log(X+1) 식을 사용하여 변환하기"
   ]
  },
  {
   "cell_type": "code",
   "execution_count": 10,
   "metadata": {},
   "outputs": [],
   "source": [
    "X_train_log = np.log(X_train + 1)\n",
    "X_test_log = np.log(X_test + 1)"
   ]
  },
  {
   "cell_type": "markdown",
   "metadata": {},
   "source": [
    "- 데이터가 정규분포에 가깝게 변환됨"
   ]
  },
  {
   "cell_type": "code",
   "execution_count": 11,
   "metadata": {
    "scrolled": true
   },
   "outputs": [
    {
     "data": {
      "image/png": "[encoded data removed]",
      "text/plain": [
       "<matplotlib.figure.Figure at 0x172e676db00>"
      ]
     },
     "metadata": {},
     "output_type": "display_data"
    }
   ],
   "source": [
    "plt.hist(X_train_log[:, 0], bins=25, color='gray')\n",
    "plt.ylabel(\"Number of appearances\")\n",
    "plt.xlabel(\"Value\")\n",
    "plt.show()"
   ]
  },
  {
   "cell_type": "markdown",
   "metadata": {},
   "source": [
    "- 정규분포에 가까운 데이터를 사용하여 Ridge 모델 적용\n",
    "  - 성능개선!!!"
   ]
  },
  {
   "cell_type": "code",
   "execution_count": 12,
   "metadata": {},
   "outputs": [
    {
     "name": "stdout",
     "output_type": "stream",
     "text": [
      "Test score: 0.875\n"
     ]
    }
   ],
   "source": [
    "score = Ridge().fit(X_train_log, y_train).score(X_test_log, y_test)\n",
    "print(\"Test score: {:.3f}\".format(score))"
   ]
  },
  {
   "cell_type": "markdown",
   "metadata": {},
   "source": [
    "- 원 데이터 집합에 대하여 구간 분할, 다항식 변환, 비선형 변환 등이 모델 성능에 영향을 주는 정도\n",
    "  - 선형 모델, 나이브 베이즈 모델: 영향 큼\n",
    "  - SVM, 최근접 이웃, 신경망: 영향 중간\n",
    "  - 트리 기반 모델: 영향 거의 없음"
   ]
  }
 ],
 "metadata": {
  "anaconda-cloud": {},
  "kernelspec": {
   "display_name": "Python 3",
   "language": "python",
   "name": "python3"
  },
  "language_info": {
   "codemirror_mode": {
    "name": "ipython",
    "version": 3
   },
   "file_extension": ".py",
   "mimetype": "text/x-python",
   "name": "python",
   "nbconvert_exporter": "python",
   "pygments_lexer": "ipython3",
   "version": "3.6.4"
  }
 },
 "nbformat": 4,
 "nbformat_minor": 1
}
