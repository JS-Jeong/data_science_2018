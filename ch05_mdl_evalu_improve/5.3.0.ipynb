{
 "cells": [
  {
   "cell_type": "code",
   "execution_count": 2,
   "metadata": {
    "hide_input": false
   },
   "outputs": [],
   "source": [
    "get_ipython().run_line_magic('matplotlib', 'inline')\n",
    "\n",
    "from sklearn.datasets import make_blobs\n",
    "from sklearn.linear_model import LogisticRegression\n",
    "from sklearn.model_selection import train_test_split\n",
    "\n",
    "import numpy as np\n",
    "from scipy import sparse\n",
    "import matplotlib.pyplot as plt\n",
    "import pandas as pd\n",
    "from IPython.display import display\n",
    "import sys\n",
    "sys.path.append('..')\n",
    "import mglearn"
   ]
  },
  {
   "cell_type": "markdown",
   "metadata": {},
   "source": [
    "### 5.3. Evaluation Metrics and Scoring\n",
    "- 기존의 Simple한 모델 평가 지표 (score)\n",
    "  - 분류 문제: 정확도 (Accuracy)\n",
    "  - 회귀 문제: $R^2$\n",
    "- 하지만, 어플리케이션에 따라 위의 평가 지표가 적합하지 않을 수 있음. "
   ]
  },
  {
   "cell_type": "markdown",
   "metadata": {},
   "source": [
    "#### 5.3.1 Keep the End Goal in Mind (최종 목표를 기억하라)\n",
    "- 어플리케이션의 고차원 목표인 비지니스 지표를 우선적으로 고려해야 함\n",
    "  - 비지니스 지표 예\n",
    "    - 교통사고율 낮춤\n",
    "    - 입원환자 수 낮춤\n",
    "    - 웹사이트 사용자 유입률 증대\n",
    "    - 소비자 소비률 증대\n",
    "  - 분석 모델 개발 초기 단계에 매개변수를 조정하기 위해 시험 삼아 모델을 실제 운영 시스템에 곧바로 적용하기란 위험부담이 크다.\n",
    "- 비지니스 임팩트 (Business Impact)\n",
    "  - 어떤 머신러닝 어플리케이션에서 특정 알고리즘을 선택하여 나타난 결과\n",
    "- 훈련 모델에 대한 비지니스 임팩트를 정확하게 예상할 수 있는 다양한 평가지표 도입 필요\n",
    "  - 이진 분류의 평가 지표\n",
    "  - 다중 분류의 평가 지표\n",
    "  - 회귀의 평가 지표"
   ]
  },
  {
   "cell_type": "markdown",
   "metadata": {},
   "source": [
    "#### 5.3.2 Metrics for Binary Classification\n",
    "- 두 가지 분류 클래스\n",
    "  - 양성 클래스 (주 관심 클래스) --> Positive Class\n",
    "  - 음성 클래스 --> Negative Class <br/><br/>\n",
    "  \n",
    "- 모델 적용 결과에 대한 분류\n",
    "  - True Positive (참 양성, TP)\n",
    "    - 모델에서 실제 양성 클래스를 정확하게 양성으로 평가한 것들\n",
    "  - False Negative (거짓 음성, FN)\n",
    "    - 모델에서 실제 양성 클래스를 잘못하여 음성으로 평가한 것들    \n",
    "  - True Negative (참 음성, TN)\n",
    "    - 모델에서 실제 음성 클래스를 정확하게 음성으로 평가한 것들          \n",
    "  - False Positive (거짓 양성, FP)\n",
    "    - 모델에서 실제 음성 클래스를 잘못하여 양성으로 평가한 것들 \n",
    "\n",
    "- 참고: https://developers.google.com/machine-learning/crash-course/classification/true-false-positive-negative"
   ]
  },
  {
   "cell_type": "markdown",
   "metadata": {},
   "source": [
    "<img src=\"images/eval.png\" width=\"75%\"/>"
   ]
  },
  {
   "cell_type": "markdown",
   "metadata": {},
   "source": [
    "##### Kinds of errors\n",
    "- 암의 조기 발견 어플리케이션 \n",
    "  - 테스트가 음성(-)이면 건강함을 뜻함\n",
    "    - 음성 클래스(Negative Class)\n",
    "  - 테스트가 양성(+)이면 암 진단이 되었음을 뜻함\n",
    "    - 양성 클래스(Positive Class)\n",
    "  - 잘못된 분류 케이스\n",
    "    - Case 1. 건강한 사람을 양성으로 잘못 분류한 경우\n",
    "      - 이 환자에게 비용 손실과 불편함을 초래함\n",
    "      - 즉, 잘못된 양성 예측\n",
    "      - 분류: ***거짓 양성 (False Positive)***\n",
    "    - Case 2. 암에 걸린 사람을 음성으로 잘못 분류한 경우\n",
    "      - 제대로 된 검사나 치료를 제때에 못하게 하는 치명적인 오류\n",
    "      - 즉, 잘못된 음성 예측\n",
    "      - 분류: ***거짓 음성 (False Negative)***\n",
    "      \n",
    "- 대부분의 경우 ***거짓 음성***이 ***거짓 양성***보다 더 치명적\n",
    "- 거짓 음성 분류와 거짓 양성 분류 중 하나가 다른 것 보다 훨씬 많을 때 이 상황은 매우 중요한 상황으로 인식해야 함."
   ]
  },
  {
   "cell_type": "markdown",
   "metadata": {},
   "source": [
    "##### Imbalanced datasets\n",
    "- 불균형 데이터셋(Imbalanced datasets)\n",
    "  - 예) 인터넷 광고 클릭 데이터에서 원본 데이터 샘플의 99%가 '클릭 아님'이고 1%만이 '클릭'인 데이터셋\n",
    "  - 현실에서 불균형 데이터는 매우 많음\n",
    "  - 위 예에서 머신러닝 모델을 만들지 않고서도 무조건 '클릭 아님'으로 예측하면 그 정확도가 99%가 됨.\n",
    "  \n",
    "- 따라서, '정확도'만으로 모델의 성능을 판별하는 것은 지양해야 함."
   ]
  },
  {
   "cell_type": "markdown",
   "metadata": {},
   "source": [
    "- digits 데이터셋에서 Target 데이터를 숫자 9이면 True, 그렇지 않으면 False로 변환하여 1:9의 불균형 데이터셋 생성"
   ]
  },
  {
   "cell_type": "code",
   "execution_count": 3,
   "metadata": {},
   "outputs": [
    {
     "name": "stdout",
     "output_type": "stream",
     "text": [
      "(1347, 64)\n",
      "(1347,)\n",
      "(450, 64)\n",
      "(450,)\n",
      "[False False False False False False False  True False False]\n",
      "\n",
      "47\n",
      "403\n"
     ]
    }
   ],
   "source": [
    "from sklearn.datasets import load_digits\n",
    "\n",
    "digits = load_digits()\n",
    "y = digits.target == 9\n",
    "\n",
    "X_train, X_test, y_train, y_test = train_test_split(digits.data, y, random_state=0)\n",
    "print(X_train.shape)\n",
    "print(y_train.shape)\n",
    "print(X_test.shape)\n",
    "print(y_test.shape)\n",
    "print(y_test[:10])\n",
    "print()\n",
    "print(len(np.where(y_test == True)[0]))\n",
    "print(len(np.where(y_test == False)[0]))"
   ]
  },
  {
   "cell_type": "markdown",
   "metadata": {},
   "source": [
    "- 정답 '9임'의 총 개수: 47 --> ***양성 클래스***\n",
    "- 정답 '9가 아님'의 총 개수: 403 --> ***음성 클래스***"
   ]
  },
  {
   "cell_type": "markdown",
   "metadata": {},
   "source": [
    "- DummyClassifier\n",
    "  - strategy='stratified'\n",
    "    - 기본값\n",
    "    - 레이블 비율에 맞추어서 예측\n",
    "  - strategy='most_frequent'    \n",
    "    - 가장 많은 레이블로 항상 예측\n",
    "\n",
    "- DummyRegressor\n",
    "  - strategy='mean'\n",
    "  - strategy='median'  "
   ]
  },
  {
   "cell_type": "markdown",
   "metadata": {},
   "source": [
    "- 아무런 학습을 하지 않고도 90% 정확도가 나올 수 있음"
   ]
  },
  {
   "cell_type": "code",
   "execution_count": 4,
   "metadata": {},
   "outputs": [
    {
     "name": "stdout",
     "output_type": "stream",
     "text": [
      "Unique predicted labels: [False]\n",
      "Test score: 0.90\n"
     ]
    }
   ],
   "source": [
    "from sklearn.dummy import DummyClassifier\n",
    "dummy_majority = DummyClassifier(strategy='most_frequent').fit(X_train, y_train)\n",
    "pred_most_frequent = dummy_majority.predict(X_test)\n",
    "\n",
    "print(\"Unique predicted labels: {}\".format(np.unique(pred_most_frequent)))\n",
    "print(\"Test score: {:.2f}\".format(dummy_majority.score(X_test, y_test)))"
   ]
  },
  {
   "cell_type": "markdown",
   "metadata": {},
   "source": [
    "- 정상적인 학습을 하더라도 92% 정확도가 나옴 --> 위의 결과와 그리 차이가 없음"
   ]
  },
  {
   "cell_type": "code",
   "execution_count": 5,
   "metadata": {},
   "outputs": [
    {
     "name": "stdout",
     "output_type": "stream",
     "text": [
      "Test score: 0.92\n"
     ]
    }
   ],
   "source": [
    "from sklearn.tree import DecisionTreeClassifier\n",
    "tree = DecisionTreeClassifier(max_depth=2).fit(X_train, y_train)\n",
    "pred_tree = tree.predict(X_test)\n",
    "print(\"Test score: {:.2f}\".format(tree.score(X_test, y_test)))"
   ]
  },
  {
   "cell_type": "markdown",
   "metadata": {},
   "source": [
    "- 레이블 비율에 맞추어서 예측을 하는 Dummy 모델도 꽤 성능이 좋음."
   ]
  },
  {
   "cell_type": "code",
   "execution_count": 6,
   "metadata": {},
   "outputs": [
    {
     "name": "stdout",
     "output_type": "stream",
     "text": [
      "Unique predicted labels: [False  True]\n",
      "dummy score: 0.84\n",
      "logreg score: 0.98\n"
     ]
    }
   ],
   "source": [
    "from sklearn.linear_model import LogisticRegression\n",
    "\n",
    "dummy = DummyClassifier().fit(X_train, y_train)\n",
    "pred_dummy = dummy.predict(X_test)\n",
    "print(\"Unique predicted labels: {}\".format(np.unique(pred_dummy)))\n",
    "print(\"dummy score: {:.2f}\".format(dummy.score(X_test, y_test)))\n",
    "\n",
    "logreg = LogisticRegression(C=0.1).fit(X_train, y_train)\n",
    "pred_logreg = logreg.predict(X_test)\n",
    "print(\"logreg score: {:.2f}\".format(logreg.score(X_test, y_test)))"
   ]
  },
  {
   "cell_type": "markdown",
   "metadata": {},
   "source": [
    "- Dummy 분류기 조차 매우 좋은 예측 정확도를 산출하는 점에 유의\n",
    "  - 현실세계에서 많이 발생할 수 있는 불균형 데이터셋(Imbalanced datasets)과 함께 **오로지 정확도만으로 모델의 성능을 지표화하는 것은 올바른 방법이 아님**"
   ]
  },
  {
   "cell_type": "markdown",
   "metadata": {},
   "source": [
    "##### Confusion matrices\n",
    "- **오차 행렬(Confusion Matrix)**\n",
    "  - 이진 분류 평가 결과를 나타낼 때 가장 널리 사용되는 방식\n",
    "  - 행(Row)\n",
    "    - 정답 클래스\n",
    "  - 열(Colume)\n",
    "    - 예측 클래스"
   ]
  },
  {
   "cell_type": "code",
   "execution_count": 7,
   "metadata": {},
   "outputs": [
    {
     "name": "stdout",
     "output_type": "stream",
     "text": [
      "47\n",
      "403\n",
      "Confusion matrix:\n",
      "[[401   2]\n",
      " [  8  39]]\n"
     ]
    }
   ],
   "source": [
    "from sklearn.metrics import confusion_matrix\n",
    "\n",
    "print(len(np.where(y_test == True)[0]))\n",
    "print(len(np.where(y_test == False)[0]))\n",
    "\n",
    "confusion = confusion_matrix(y_test, pred_logreg)\n",
    "print(\"Confusion matrix:\\n{}\".format(confusion))"
   ]
  },
  {
   "cell_type": "markdown",
   "metadata": {},
   "source": [
    "- [***음성*** 정답] - 정답 '9가 아님'의 총 개수: 403\n",
    "  - [***음성*** 예측] - 예측 '9가 아님'의 총 개수: 401 --> ***True Negative (TN)***\n",
    "  - [***양성*** 예측] - 예측 '9임'의 총 개수: 2 --> ***False Positive (FP, 거짓 양성)*** --> 잘못된 양성 분류\n",
    "  \n",
    "- [***양성*** 정답] - 정답 '9임'의 총 개수: 47\n",
    "  - [***음성*** 예측] - 예측 '9가 아님'의 총 개수: 8 --> ***False Negative (FN, 거짓 음성)*** --> 잘못된 음성 분류\n",
    "  - [***양성*** 예측] - 예측 '9임'의 총 개수: 39 --> ***True Positive (TP)***\n",
    "\n"
   ]
  },
  {
   "cell_type": "code",
   "execution_count": 8,
   "metadata": {},
   "outputs": [
    {
     "data": {
      "image/png": "[encoded data removed]",
      "text/plain": [
       "<matplotlib.figure.Figure at 0x2217a80ed30>"
      ]
     },
     "metadata": {},
     "output_type": "display_data"
    }
   ],
   "source": [
    "mglearn.plots.plot_confusion_matrix_illustration()"
   ]
  },
  {
   "cell_type": "code",
   "execution_count": 9,
   "metadata": {},
   "outputs": [
    {
     "data": {
      "image/png": "[encoded data removed]",
      "text/plain": [
       "<matplotlib.figure.Figure at 0x2217a879c50>"
      ]
     },
     "metadata": {},
     "output_type": "display_data"
    }
   ],
   "source": [
    "mglearn.plots.plot_binary_confusion_matrix()"
   ]
  },
  {
   "cell_type": "code",
   "execution_count": 10,
   "metadata": {},
   "outputs": [
    {
     "name": "stdout",
     "output_type": "stream",
     "text": [
      "Most frequent class:\n",
      "[[403   0]\n",
      " [ 47   0]]\n",
      "\n",
      "Dummy model:\n",
      "[[353  50]\n",
      " [ 45   2]]\n",
      "\n",
      "Decision tree:\n",
      "[[390  13]\n",
      " [ 24  23]]\n",
      "\n",
      "Logistic Regression\n",
      "[[401   2]\n",
      " [  8  39]]\n"
     ]
    }
   ],
   "source": [
    "print(\"Most frequent class:\")\n",
    "print(confusion_matrix(y_test, pred_most_frequent))\n",
    "\n",
    "print(\"\\nDummy model:\")\n",
    "print(confusion_matrix(y_test, pred_dummy))\n",
    "\n",
    "print(\"\\nDecision tree:\")\n",
    "print(confusion_matrix(y_test, pred_tree))\n",
    "\n",
    "print(\"\\nLogistic Regression\")\n",
    "print(confusion_matrix(y_test, pred_logreg))"
   ]
  },
  {
   "cell_type": "markdown",
   "metadata": {},
   "source": [
    "###### Accuracy (정확도)\n",
    "\\begin{equation}\n",
    "\\text{Accuracy} = \\frac{\\text{TP} + \\text{TN}}{\\text{TP} + \\text{TN} + \\text{FP} + \\text{FN}}\n",
    "\\end{equation}\n",
    "\n",
    "- 전체 샘플 수 중에서 정확히 예측한 것(TP 와 TN)의 비율\n",
    "- scikit-learn 에서 score 함수가 반환하는 값"
   ]
  },
  {
   "cell_type": "markdown",
   "metadata": {},
   "source": [
    "##### Precision (정밀도)\n",
    "\\begin{equation}\n",
    "\\text{Precision} = \\frac{\\text{TP}}{\\text{TP} + \\text{FP}}\n",
    "\\end{equation}\n",
    "\n",
    "- 양성(Positive)로 예측한 것(TP와 FP)들 중 진짜 양성인 것(TP)의 비율\n",
    "- **거짓 양성(FP)의 수를 줄이는 것을 목표**로 할 때 사용하는 지표\n",
    "  - 신약의 효과 검증 등 임상 시험에 많이 사용\n",
    "- **거짓 음성(FN)의 수가 늘어나는 것에 대해 정밀도 수치는 영향받지 않음**\n",
    "- 양성 예측도 (PPV)라고도 불리움"
   ]
  },
  {
   "cell_type": "markdown",
   "metadata": {
    "collapsed": true,
    "hide_input": false
   },
   "source": [
    "##### Recall (재현율)\n",
    "\\begin{equation}\n",
    "\\text{Recall} = \\frac{\\text{TP}}{\\text{TP} + \\text{FN}}\n",
    "\\end{equation}\n",
    "\n",
    "- 진짜 양성인 것(FN과 TP)들 중 올바르게 양성으로 예측된 것(TP)의 비율 \n",
    "- **거짓 음성(FN)의 수를 줄이는 것**을 목표로 할 때 사용하는 지표\n",
    "  - 암 진단\n",
    "- **거짓 양성(FP)의 수가 늘어나는 것에 대해 재현율 수치는 영향받지 않음***\n",
    "  - 즉, 건강한 사람이 일부 암 진단을 받더라도 암에 걸린 사람을 빠짐없이 찾는 것이 더 중요\n",
    "- 민감도(Sensitivity), 적중률(Hit Rate), 진짜 양성 비율 (TPR)라고도 불리움"
   ]
  },
  {
   "cell_type": "markdown",
   "metadata": {},
   "source": [
    "##### f-score (f-점수)\n",
    "- $P$: Precision\n",
    "- $R$: Recall\n",
    "\\begin{equation}\n",
    "\\text{F} = \\frac{1}{\\displaystyle \\alpha \\frac{1}{P} + (1-\\alpha) \\frac{1}{R}}\n",
    "\\end{equation}\n",
    "- 정밀도와 재현율은 상충 관계\n",
    "- 모든 샘플을 양성 클래스로만 예측한 경우\n",
    "  - FP와 TP만 존재\n",
    "  - 재현율: 1, 정밀도는 상대적으로 낮아짐\n",
    "- 하나의 샘플만 (올바르게) 양성 클래스로 예측하고 나머지 샘플을 음성 클래스로만 예측한 경우\n",
    "  - TN과 FN만 존재\n",
    "  - 정밀도: 1, 재현율은 상대적으로 낮아짐\n",
    "- f-score\n",
    "  - 정밀도와 재현율의 조화 평균\n",
    "  - 정밀도와 재현울을 동시에 고려한 수치이므로 불균한 이진 분류문제의 정확도(Accuracy)보다 더 나은 지표 \n",
    "  - f1-score\n",
    "    - f-score 공식에서 $\\alpha=0.5$\n",
    "\\begin{equation}\n",
    "\\text{f1-score} = \\frac{1}{\\displaystyle 0.5 \\frac{1}{P} + 0.5 \\frac{1}{R}} = 2 \\cdot \\frac{P \\cdot R}{P + R}\n",
    "\\end{equation}\n",
    "- f-measure (f-측정)이라고도 함"
   ]
  },
  {
   "cell_type": "markdown",
   "metadata": {},
   "source": [
    "#### [Note] 주가 변동 이진 분류 예측\n",
    "- 특성 데이터\n",
    "  - 일봉의 종가 기반\n",
    "  - N개 종목의 과거 M일치의 종가 데이터\n",
    "  - 1개 샘플의 특성 데이터 크기 N * M\n",
    "  - 하루씩 Shift하면서 새로운 샘플 생성\n",
    "- 타겟 데이터\n",
    "  - 특정 종목의 M+1일의 종가 데이터\n",
    "  - 직전 M일자 종가보다 M+1일자 종가가 올랐다면 1, 그렇지 않으면 0\n",
    "- 두 가지 분류 클래스\n",
    "  - 1: 양성 (Positive) 클래스\n",
    "  - 0: 음성 (Negative) 클래스 \n",
    "- 성능 평가 측정\n",
    "  - Accuracy는 당연히 높아야 함.\n",
    "  - Precision과 Recall은 상충관계이므로 둘 중 하나를 택하여 더 집중적으로 높여야 한다면 어떤것을 높여야 하나?\n",
    "    - Precision 관점\n",
    "      - 거짓 양성(FP)을 줄이는 것을 목적\n",
    "      - 즉, 주가가 올라간다고 예측을 했는 데, 실제로는 하락을 한 경우를 줄이고자 함.\n",
    "      - **재화의 상실**\n",
    "    - Recall 관점\n",
    "      - 거짓 음성(FN)을 줄이는 것을 목적\n",
    "      - 즉, 주가가 하락한다고 예측을 했는 데, 실제로는 상승을 한 경우를 줄이고자 함.\n",
    "      - **기회의 상실**"
   ]
  },
  {
   "cell_type": "code",
   "execution_count": 11,
   "metadata": {},
   "outputs": [
    {
     "name": "stdout",
     "output_type": "stream",
     "text": [
      "f1 score most frequent: 0.00\n",
      "f1 score dummy: 0.04\n",
      "f1 score tree: 0.55\n",
      "f1 score logistic regression: 0.89\n"
     ]
    },
    {
     "name": "stderr",
     "output_type": "stream",
     "text": [
      "C:\\Users\\JS-Jeong\\Anaconda3\\lib\\site-packages\\sklearn\\metrics\\classification.py:1135: UndefinedMetricWarning: F-score is ill-defined and being set to 0.0 due to no predicted samples.\n",
      "  'precision', 'predicted', average, warn_for)\n"
     ]
    }
   ],
   "source": [
    "from sklearn.metrics import f1_score\n",
    "print(\"f1 score most frequent: {:.2f}\".format(f1_score(y_test, pred_most_frequent)))\n",
    "print(\"f1 score dummy: {:.2f}\".format(f1_score(y_test, pred_dummy)))\n",
    "print(\"f1 score tree: {:.2f}\".format(f1_score(y_test, pred_tree)))\n",
    "print(\"f1 score logistic regression: {:.2f}\".format(f1_score(y_test, pred_logreg)))"
   ]
  },
  {
   "cell_type": "markdown",
   "metadata": {},
   "source": [
    "- f1 score most frequent 모델의 f1 점수는 TP가 0이므로, 재현율과 정밀도가 모두 0\n",
    "  - 그러므로 f1 점수 공식에서 분모가 0\n",
    "  - 위 Warning 메시지의 원인 \n",
    "- f1-점수로 비교해본 가장 좋은 모델\n",
    "  - Logistic Regression"
   ]
  },
  {
   "cell_type": "markdown",
   "metadata": {},
   "source": [
    "- sklearn.metrics.classification_report\n",
    "  - 각 클래스마다 교대로 양성임을 가정\n",
    "  - 상위 두 개의 출력 라인\n",
    "    - 해당 클래스가 양성일 때 다음 4개의 값을 출력\n",
    "      - 정밀도(precision)\n",
    "      - 재현율(recall)\n",
    "      - f1-점수(f1-score)\n",
    "      - 해당 클래스에 실제로 속한 샘플 개수(support) \n",
    "          - 정답 데이터인 y_test에 대한 각 클래스별 샘플 개수"
   ]
  },
  {
   "cell_type": "code",
   "execution_count": 12,
   "metadata": {},
   "outputs": [
    {
     "name": "stdout",
     "output_type": "stream",
     "text": [
      "             precision    recall  f1-score   support\n",
      "\n",
      "   not nine       0.90      1.00      0.94       403\n",
      "       nine       0.00      0.00      0.00        47\n",
      "\n",
      "avg / total       0.80      0.90      0.85       450\n",
      "\n"
     ]
    },
    {
     "name": "stderr",
     "output_type": "stream",
     "text": [
      "C:\\Users\\JS-Jeong\\Anaconda3\\lib\\site-packages\\sklearn\\metrics\\classification.py:1135: UndefinedMetricWarning: Precision and F-score are ill-defined and being set to 0.0 in labels with no predicted samples.\n",
      "  'precision', 'predicted', average, warn_for)\n"
     ]
    }
   ],
   "source": [
    "from sklearn.metrics import classification_report\n",
    "print(classification_report(y_test, pred_most_frequent, target_names=[\"not nine\", \"nine\"]))"
   ]
  },
  {
   "cell_type": "code",
   "execution_count": 13,
   "metadata": {},
   "outputs": [
    {
     "name": "stdout",
     "output_type": "stream",
     "text": [
      "             precision    recall  f1-score   support\n",
      "\n",
      "   not nine       0.89      0.88      0.88       403\n",
      "       nine       0.04      0.04      0.04        47\n",
      "\n",
      "avg / total       0.80      0.79      0.79       450\n",
      "\n"
     ]
    }
   ],
   "source": [
    "print(classification_report(y_test, pred_dummy, target_names=[\"not nine\", \"nine\"]))"
   ]
  },
  {
   "cell_type": "code",
   "execution_count": 14,
   "metadata": {},
   "outputs": [
    {
     "name": "stdout",
     "output_type": "stream",
     "text": [
      "             precision    recall  f1-score   support\n",
      "\n",
      "   not nine       0.98      1.00      0.99       403\n",
      "       nine       0.95      0.83      0.89        47\n",
      "\n",
      "avg / total       0.98      0.98      0.98       450\n",
      "\n"
     ]
    }
   ],
   "source": [
    "print(classification_report(y_test, pred_logreg, target_names=[\"not nine\", \"nine\"]))"
   ]
  },
  {
   "cell_type": "markdown",
   "metadata": {},
   "source": [
    "##### Taking uncertainty into account\n",
    "- 모델 예측의 확신도를 가늠하기 위한 함수\n",
    "  - decicion_function\n",
    "    - 임계값: 0\n",
    "    - decision_fuction의 임계값이 0일 때 클래스 분류  \n",
    "      - decision_function() <= 0 --> 클래스 0 (음성 클래스)로 분류\n",
    "      - decision_function() > 0 --> 클래스 1 (양성 클래스)로 분류\n",
    "  - predict_proba\n",
    "    - 임계값: 0.5"
   ]
  },
  {
   "cell_type": "code",
   "execution_count": 16,
   "metadata": {},
   "outputs": [
    {
     "name": "stdout",
     "output_type": "stream",
     "text": [
      "(337, 2)\n",
      "(337,)\n",
      "\n",
      "(113, 2)\n",
      "(113,)\n"
     ]
    }
   ],
   "source": [
    "from mglearn.datasets import make_blobs\n",
    "from sklearn.svm import SVC\n",
    "\n",
    "X, y = make_blobs(\n",
    "    n_samples=(400, 50),  # 음성 클래스: 400개, 양성 클래스: 50개\n",
    "    centers=2, \n",
    "    cluster_std=[7.0, 2], \n",
    "    random_state=22\n",
    ")\n",
    "\n",
    "X_train, X_test, y_train, y_test = train_test_split(X, y, random_state=0)\n",
    "print(X_train.shape)\n",
    "print(y_train.shape)\n",
    "print()\n",
    "print(X_test.shape)\n",
    "print(y_test.shape)\n",
    "\n",
    "svc = SVC(gamma=.05).fit(X_train, y_train)"
   ]
  },
  {
   "cell_type": "code",
   "execution_count": 17,
   "metadata": {},
   "outputs": [
    {
     "data": {
      "image/png": "[encoded data removed]",
      "text/plain": [
       "<matplotlib.figure.Figure at 0x2217a8be9e8>"
      ]
     },
     "metadata": {},
     "output_type": "display_data"
    }
   ],
   "source": [
    "mglearn.plots.plot_decision_threshold()"
   ]
  },
  {
   "cell_type": "markdown",
   "metadata": {},
   "source": [
    "- 위 상위 두 개의 그림에서 검은색 동그라미\n",
    "  - decision_fuction의 임계점이 0일 때와 -0.8일 때의 경계 위치\n",
    "  - 이 동그라미 내부는 양성 클래스(decision_function() > 0)로 분류, 바깥쪽은 음성 클래스로 분류"
   ]
  },
  {
   "cell_type": "code",
   "execution_count": 18,
   "metadata": {},
   "outputs": [
    {
     "name": "stdout",
     "output_type": "stream",
     "text": [
      "             precision    recall  f1-score   support\n",
      "\n",
      "          0       0.97      0.89      0.93       104\n",
      "          1       0.35      0.67      0.46         9\n",
      "\n",
      "avg / total       0.92      0.88      0.89       113\n",
      "\n"
     ]
    }
   ],
   "source": [
    "print(classification_report(y_test, svc.predict(X_test)))"
   ]
  },
  {
   "cell_type": "markdown",
   "metadata": {},
   "source": [
    "- 양성 클래스 1에 대해 정밀도(0.35)가 매우 낮음, 재현율(0.67)도 낮음.\n",
    "  - 음성 클래스 0에 대한 샘플 수가 많아서 생긴 결과임 --> 데이터 불균형"
   ]
  },
  {
   "cell_type": "markdown",
   "metadata": {},
   "source": [
    "- 이제 클래스 1의 재현율(recall)을 높이는 것이 중요하다고 가정.\n",
    "  - 즉, 거짓 양성(FP)의 수가 늘어나도 중요하지 않음.\n",
    "  - 진짜 양성(TP)을 늘리고 거짓 음성(FN)을 줄이려고 함.\n",
    "  - decision_function의 임계값을 낮추면 클래스 1로 분류되는 경우가 더 많아짐"
   ]
  },
  {
   "cell_type": "code",
   "execution_count": 19,
   "metadata": {},
   "outputs": [
    {
     "name": "stdout",
     "output_type": "stream",
     "text": [
      "(113,)\n"
     ]
    }
   ],
   "source": [
    "y_pred_lower_threshold = svc.decision_function(X_test) > -.8\n",
    "print(y_pred_lower_threshold.shape)"
   ]
  },
  {
   "cell_type": "code",
   "execution_count": 20,
   "metadata": {},
   "outputs": [
    {
     "name": "stdout",
     "output_type": "stream",
     "text": [
      "             precision    recall  f1-score   support\n",
      "\n",
      "          0       1.00      0.82      0.90       104\n",
      "          1       0.32      1.00      0.49         9\n",
      "\n",
      "avg / total       0.95      0.83      0.87       113\n",
      "\n"
     ]
    }
   ],
   "source": [
    "print(classification_report(y_test, y_pred_lower_threshold))"
   ]
  },
  {
   "cell_type": "markdown",
   "metadata": {},
   "source": [
    "- 클래스 1의 재현율이 1.00 --> 즉, 거짓 음성은 전혀 없음\n",
    "  - 반면에 정밀도는 다소 낮아짐\n",
    "- decision_function 값의 임계점을 고르는 일반적인 방법을 제시하기는 어려움"
   ]
  },
  {
   "cell_type": "markdown",
   "metadata": {},
   "source": [
    "##### Precision-Recall curves (정밀도-재현율 곡선)"
   ]
  },
  {
   "cell_type": "markdown",
   "metadata": {},
   "source": [
    "- 분류 임계값 조정 작업\n",
    "  - 정밀도와 재현율의 상충 관계 조정하는 일과 동일\n",
    "  - 임계값 조정은 비지니스 목표에 의존적\n",
    "    - 비지니스 목표: 어떤 클래스에 대해 목표로 하는 재현율 또는 정밀도 값을 얻어냄\n",
    "    - 예를 들어 양성 클래스에 대하여 **90% 재현율 산출**이 비지니스 목표가 될 수 있음"
   ]
  },
  {
   "cell_type": "markdown",
   "metadata": {},
   "source": [
    "- ***운영 포인트 (Operating Point)*** 지정\n",
    "  - 예: **90% 재현율 산출**\n",
    "  - 분류 모델이 목표로 하는 성능지표를 지정하는 작업\n",
    "  - 비지니스 목표와 연관이 깊음\n",
    "  - 많은 경우 운영 포인트를 정확하게 지정하는 것은 어려움\n",
    "    - 이런 경우 임계값을 폭넓게 변경해 가며 정밀도와 재현율을 산출하며 그 장단점을 살펴보는 작업 필요\n",
    "    - 이를 위해 ***정밀도-재현율 곡선***을 사용\n",
    "    - sklearn.metrics.precision_recall_curve\n",
    "      - 가능한 모든 임계값에 대한 정밀도와 재현율 값을 리스트로 반환"
   ]
  },
  {
   "cell_type": "code",
   "execution_count": 21,
   "metadata": {},
   "outputs": [
    {
     "name": "stdout",
     "output_type": "stream",
     "text": [
      "precision: [0.32142857 0.2962963  0.30769231 0.32       0.33333333 0.34782609\n",
      " 0.36363636 0.38095238 0.4        0.36842105 0.33333333 0.35294118\n",
      " 0.375      0.4        0.42857143 0.38461538 0.41666667 0.45454545\n",
      " 0.4        0.44444444 0.5        0.57142857 0.66666667 0.6\n",
      " 0.5        0.66666667 0.5        1.         1.        ]\n",
      "\n",
      "recall: [1.         0.88888889 0.88888889 0.88888889 0.88888889 0.88888889\n",
      " 0.88888889 0.88888889 0.88888889 0.77777778 0.66666667 0.66666667\n",
      " 0.66666667 0.66666667 0.66666667 0.55555556 0.55555556 0.55555556\n",
      " 0.44444444 0.44444444 0.44444444 0.44444444 0.44444444 0.33333333\n",
      " 0.22222222 0.22222222 0.11111111 0.11111111 0.        ]\n",
      "\n",
      "thresholds: [-0.7512563  -0.58749402 -0.48739733 -0.44364565 -0.40435353 -0.28965335\n",
      " -0.24173165 -0.19257469 -0.17852475 -0.16644845 -0.1601932   0.08620484\n",
      "  0.14630375  0.19153373  0.36988055  0.52008479  0.5230006   0.53195462\n",
      "  0.63212214  0.74430046  0.87212596  0.88002558  0.88395198  0.97789353\n",
      "  1.00010384  1.07030762  1.08436417  1.25059991]\n",
      "\n",
      "11\n",
      "0.08620483947417501\n"
     ]
    }
   ],
   "source": [
    "from sklearn.metrics import precision_recall_curve\n",
    "\n",
    "precision, recall, thresholds = precision_recall_curve(y_test, svc.decision_function(X_test))\n",
    "\n",
    "print(\"precision: {}\\n\".format(precision))\n",
    "print(\"recall: {}\\n\".format(recall))\n",
    "print(\"thresholds: {}\\n\".format(thresholds))\n",
    "\n",
    "close_zero = np.argmin(np.abs(thresholds))\n",
    "print(close_zero)\n",
    "print(thresholds[close_zero])"
   ]
  },
  {
   "cell_type": "code",
   "execution_count": 22,
   "metadata": {},
   "outputs": [
    {
     "data": {
      "text/plain": [
       "<matplotlib.legend.Legend at 0x2217af56438>"
      ]
     },
     "execution_count": 22,
     "metadata": {},
     "output_type": "execute_result"
    },
    {
     "data": {
      "image/png": "[encoded data removed]",
      "text/plain": [
       "<matplotlib.figure.Figure at 0x2217b1c2400>"
      ]
     },
     "metadata": {},
     "output_type": "display_data"
    }
   ],
   "source": [
    "# create a similar dataset as before, but with more samples\n",
    "# to get a smoother curve\n",
    "X, y = make_blobs(\n",
    "    n_samples=(4000, 500), \n",
    "    centers=2, \n",
    "    cluster_std=[7.0, 2],\n",
    "    random_state=22\n",
    ")\n",
    "\n",
    "X_train, X_test, y_train, y_test = train_test_split(X, y, random_state=0)\n",
    "\n",
    "svc = SVC(gamma=.05).fit(X_train, y_train)\n",
    "\n",
    "precision, recall, thresholds = precision_recall_curve(y_test, svc.decision_function(X_test))\n",
    "\n",
    "# find threshold closest to zero\n",
    "close_zero = np.argmin(np.abs(thresholds))\n",
    "plt.plot(\n",
    "    precision[close_zero],\n",
    "    recall[close_zero],\n",
    "    'o',\n",
    "    markersize=10,\n",
    "    label=\"threshold zero\",\n",
    "    fillstyle=\"none\",\n",
    "    c='k',\n",
    "    mew=2)\n",
    "\n",
    "plt.plot(precision, recall, label=\"precision recall curve\")\n",
    "plt.xlabel(\"Precision\")\n",
    "plt.ylabel(\"Recall\")\n",
    "plt.legend(loc=\"best\")"
   ]
  },
  {
   "cell_type": "markdown",
   "metadata": {},
   "source": [
    "- 위그림의 파란색 곡선은 decision_function의 가능한 모든 임계값에 대응되는 Precision과 Recall 값을 나타냄\n",
    "- 검은색 원은 decision_function의 기본 임계값인 0의 지점을 나타냄\n",
    "  - 이 지점은 predict 메소드를 호출할 때 사용되는 임계 지점 값\n",
    "- 위 정밀도-재현율 곡선은 오른쪽 위로 갈 수록 좋은 분류기\n",
    "  - 오른쪽 위 --> 정밀도와 재현율이 모두 높은 곳\n",
    "- 위 그래프에서 알 수 있는 것\n",
    "  - 0.9 정도의 높은 Recall을 유지하면서도 0.5 정도의 Precision을 얻을 수 있음\n",
    "  - 0.5보다 더 높은 Precision을 얻어내기 위해서는 Recall을 많이 손해 봐야 함"
   ]
  },
  {
   "cell_type": "markdown",
   "metadata": {},
   "source": [
    "- RandomForestClassifier는 decision_function은 제공하지 않고 predict_proba만 제공\n",
    "  - rf.predict_proba(X_test)[:, 1]\n",
    "    - 양성 클래스(클래스 1)의 확신 정도값을 가지고 오는 코드\n",
    "    - 기본 임계값: 0.5"
   ]
  },
  {
   "cell_type": "code",
   "execution_count": 23,
   "metadata": {},
   "outputs": [
    {
     "data": {
      "text/plain": [
       "<matplotlib.legend.Legend at 0x2217a90c9b0>"
      ]
     },
     "execution_count": 23,
     "metadata": {},
     "output_type": "execute_result"
    },
    {
     "data": {
      "image/png": "[encoded data removed]",
      "text/plain": [
       "<matplotlib.figure.Figure at 0x22177536208>"
      ]
     },
     "metadata": {},
     "output_type": "display_data"
    }
   ],
   "source": [
    "from sklearn.ensemble import RandomForestClassifier\n",
    "\n",
    "rf = RandomForestClassifier(n_estimators=100, random_state=0, max_features=2)\n",
    "rf.fit(X_train, y_train)\n",
    "\n",
    "# RandomForestClassifier has predict_proba, but not decision_function\n",
    "precision_rf, recall_rf, thresholds_rf = precision_recall_curve(y_test, rf.predict_proba(X_test)[:, 1])\n",
    "\n",
    "plt.plot(precision, recall, label=\"svc\")\n",
    "\n",
    "plt.plot(\n",
    "    precision[close_zero], \n",
    "    recall[close_zero], \n",
    "    'o', \n",
    "    markersize=10,\n",
    "    label=\"threshold zero svc\", \n",
    "    fillstyle=\"none\", \n",
    "    c='k', \n",
    "    mew=2)\n",
    "\n",
    "plt.plot(precision_rf, recall_rf, label=\"rf\")\n",
    "\n",
    "close_default_rf = np.argmin(np.abs(thresholds_rf - 0.5))\n",
    "\n",
    "plt.plot(\n",
    "    precision_rf[close_default_rf], \n",
    "    recall_rf[close_default_rf], \n",
    "    '^', \n",
    "    markersize=10,\n",
    "    label=\"threshold 0.5 rf\", \n",
    "    fillstyle=\"none\", \n",
    "    c='k',\n",
    "    mew=2)\n",
    "\n",
    "plt.xlabel(\"Precision\")\n",
    "plt.ylabel(\"Recall\")\n",
    "plt.legend(loc=\"best\")"
   ]
  },
  {
   "cell_type": "markdown",
   "metadata": {},
   "source": [
    "- 높은 Precision 또는 높은 Recall을 얻기 위해서는 RandomForestClassifier가 더 좋은 모델\n",
    "- Precision 과 Recall 두 개의 값을 적절히 동시에 높은 값을 얻기 위해서는 SVC가 더 좋은 모델"
   ]
  },
  {
   "cell_type": "markdown",
   "metadata": {},
   "source": [
    "- f1-score만으로는 이런 세세한 부분을 비교할 수 없음\n",
    "  - f1-score는 정밀도-재현율 곡선의 한 지점인 기본 임계값에 대한 점수임"
   ]
  },
  {
   "cell_type": "code",
   "execution_count": 24,
   "metadata": {},
   "outputs": [
    {
     "name": "stdout",
     "output_type": "stream",
     "text": [
      "f1_score of random forest: 0.610\n",
      "f1_score of svc: 0.656\n"
     ]
    }
   ],
   "source": [
    "from sklearn.metrics import f1_score\n",
    "\n",
    "print(\"f1_score of random forest: {:.3f}\".format(f1_score(y_test, rf.predict(X_test))))\n",
    "print(\"f1_score of svc: {:.3f}\".format(f1_score(y_test, svc.predict(X_test))))"
   ]
  },
  {
   "cell_type": "markdown",
   "metadata": {},
   "source": [
    "- 어느 모델이 좋은지 보다 정확하게 비교하려면... \n",
    "  - 특정 임계값이나 운영 포인트에 국한하지 않고 전체 곡선에 대한 정보를 요약해야 함\n",
    "- ***Average Precision (평균 정밀도)***\n",
    "  - 정밀도-재현율 곡선의 아랫부분 면적을 계산한 값\n",
    "  - 항상 0(가장 나쁨)에서 1(가장 좋음)사이의 값을 지님\n",
    "  - sklearn.metrics.average_precision_score"
   ]
  },
  {
   "cell_type": "code",
   "execution_count": 25,
   "metadata": {},
   "outputs": [
    {
     "name": "stdout",
     "output_type": "stream",
     "text": [
      "Average precision of random forest: 0.660\n",
      "Average precision of svc: 0.666\n"
     ]
    }
   ],
   "source": [
    "from sklearn.metrics import average_precision_score\n",
    "\n",
    "ap_rf = average_precision_score(y_test, rf.predict_proba(X_test)[:, 1])\n",
    "ap_svc = average_precision_score(y_test, svc.decision_function(X_test))\n",
    "\n",
    "print(\"Average precision of random forest: {:.3f}\".format(ap_rf))\n",
    "print(\"Average precision of svc: {:.3f}\".format(ap_svc))"
   ]
  },
  {
   "cell_type": "markdown",
   "metadata": {},
   "source": [
    "- 평균 정밀도 측면에서 RandomForestClassifier와 SVC가 큰 차이 없음"
   ]
  },
  {
   "cell_type": "markdown",
   "metadata": {},
   "source": [
    "##### Receiver Operating Characteristics (ROC) and AUC\n",
    "- 진짜 양성 비율 (TPR): 전체 양성 샘플(TP와 FN)중에서 진짜 양성(TP)로 올바로 분류된 비율 = 재현율\n",
    "\\begin{equation}\n",
    "\\text{TPR} = Recall = \\frac{\\text{TP}}{\\text{TP} + \\text{FN}}\n",
    "\\end{equation}\n",
    "<br/>\n",
    "<br/>\n",
    "- 거짓 양성 비율 (FPR): 전체 음성 샘플(FP와 TN) 중에서 거짓 양성(FP)로 잘못 분류된 비율 \n",
    "\\begin{equation}\n",
    "\\text{FPR} = \\frac{\\text{FP}}{\\text{FP} + \\text{TN}}\n",
    "\\end{equation}\n",
    "<br/>\n",
    "<br/>\n",
    "- TPR과 FPR의 해석\n",
    "  - TPR과 FPR은 서로 반비례적인 관계에 있다. 암환자를 진단할 때, 성급한 의사는 아주 조금의 징후만 보여도 암인 것 같다고 할 것이다. 이 경우 TPR은 1에 가까워질 것이다. 그러나 FPR은 반대로 매우 낮아져버린다. (정상인 사람도 다 암이라고 하니까)\n",
    "\n",
    "  - 반대로 돌팔이 의사라서 암환자를 알아내지 못한다면, 모든 환자에 대해 암이 아니라고 할 것이다. 이 경우 TPR은 매우 낮아져 0에 가까워 질 것이다. 그러나 반대로 FPR은 급격히 높아져 1에 가까워질 것이다.(암환자라는 진단 자체를 안하므로, 암환자라고 잘못 진단 하는 경우가 없음)\n",
    "  - 출처: http://newsight.tistory.com/53 [New Sight]\n",
    "<br/>\n",
    "<br/>\n",
    "\n",
    "- ROC 곡선\n",
    "  - ROC curve is created by plotting the true positive rate (TPR) against the false positive rate (FPR) at various threshold settings.\n",
    "  - '수신기 운영 특성 (Receiver Operating Characteristics)'이라는 이름은 신호 탐지 이론에서 비롯\n",
    "  - 이름 그 자체의 의미는 무시하고 'TPR-FPR 곡선'으로 이해하는 것이 좋음"
   ]
  },
  {
   "cell_type": "code",
   "execution_count": 26,
   "metadata": {},
   "outputs": [
    {
     "data": {
      "text/plain": [
       "<matplotlib.legend.Legend at 0x2217af41f98>"
      ]
     },
     "execution_count": 26,
     "metadata": {},
     "output_type": "execute_result"
    },
    {
     "data": {
      "image/png": "[encoded data removed]",
      "text/plain": [
       "<matplotlib.figure.Figure at 0x2217af41be0>"
      ]
     },
     "metadata": {},
     "output_type": "display_data"
    }
   ],
   "source": [
    "from sklearn.metrics import roc_curve\n",
    "fpr, tpr, thresholds = roc_curve(y_test, svc.decision_function(X_test))\n",
    "\n",
    "plt.plot(fpr, tpr, label=\"ROC Curve\")\n",
    "plt.xlabel(\"FPR\")\n",
    "plt.ylabel(\"TPR (recall)\")\n",
    "\n",
    "# find threshold closest to zero\n",
    "close_zero = np.argmin(np.abs(thresholds))\n",
    "plt.plot(fpr[close_zero], tpr[close_zero], 'o', markersize=10, label=\"threshold zero\", fillstyle=\"none\", c='k', mew=2)\n",
    "plt.legend(loc=4)"
   ]
  },
  {
   "cell_type": "markdown",
   "metadata": {},
   "source": [
    "- ROC 곡선 해석\n",
    "  - ROC 곡선은 왼쪽 상단에 가까울 수록 이상적임.\n",
    "    - 즉, FPR은 낮게 유지하면서 TPR(재현율)은 높은 뷴류기가 좋음.  \n",
    "  - 위 그림에서 기본 임계값 0에 대한 FPR과 TPR값보다는 FPR을 조금 더 늘려주면(0.1 정도) TPR을 상당히 높일 수 있음(0.9 정도)\n",
    "    - 이러한 FPR=0.1 & TPR=0.9을 산출할 수 있는 임계값이 적절한 **운영 포인트**가 될 수 있음"
   ]
  },
  {
   "cell_type": "code",
   "execution_count": 27,
   "metadata": {},
   "outputs": [
    {
     "data": {
      "text/plain": [
       "<matplotlib.legend.Legend at 0x2217afcbe48>"
      ]
     },
     "execution_count": 27,
     "metadata": {},
     "output_type": "execute_result"
    },
    {
     "data": {
      "image/png": "[encoded data removed]",
      "text/plain": [
       "<matplotlib.figure.Figure at 0x22177c56748>"
      ]
     },
     "metadata": {},
     "output_type": "display_data"
    }
   ],
   "source": [
    "fpr_rf, tpr_rf, thresholds_rf = roc_curve(y_test, rf.predict_proba(X_test)[:, 1])\n",
    "\n",
    "plt.plot(fpr, tpr, label=\"ROC Curve SVC\")\n",
    "plt.plot(fpr_rf, tpr_rf, label=\"ROC Curve RF\")\n",
    "\n",
    "plt.xlabel(\"FPR\")\n",
    "plt.ylabel(\"TPR (recall)\")\n",
    "plt.plot(fpr[close_zero], tpr[close_zero], 'o', markersize=10, label=\"threshold zero SVC\", fillstyle=\"none\", c='k', mew=2)\n",
    "\n",
    "close_default_rf = np.argmin(np.abs(thresholds_rf - 0.5))\n",
    "plt.plot(fpr_rf[close_default_rf], tpr[close_default_rf], '^', markersize=10, label=\"threshold 0.5 RF\", fillstyle=\"none\", c='k', mew=2)\n",
    "\n",
    "plt.legend(loc=4)"
   ]
  },
  {
   "cell_type": "markdown",
   "metadata": {},
   "source": [
    "- 두 개의 ROC 곡선 해석\n",
    "  - RandomForest 모델이 SVC 보다 좀 더 왼쪽 상단으로 ROC 곡선이 위치하는 듯 함\n",
    "  - 어떤 ROC 곡선이 더 좋은지 알아보기 ROC 곡선아래의 면적을 하나의 값으로 요약할 수 있음\n",
    "    - AUC (Area Under the (ROC) Curve)\n",
    "      - 0(최악) ~ 1(최선)\n",
    "    - 수집한 데이터가 불균현한 데이터 집합이라면 정확도보다 AUC가 더 의미있는 지표\n",
    "    - sklearn.metrics.roc_auc_score"
   ]
  },
  {
   "cell_type": "code",
   "execution_count": 28,
   "metadata": {},
   "outputs": [
    {
     "name": "stdout",
     "output_type": "stream",
     "text": [
      "AUC for Random Forest: 0.937\n",
      "AUC for SVC: 0.916\n"
     ]
    }
   ],
   "source": [
    "from sklearn.metrics import roc_auc_score\n",
    "\n",
    "rf_auc = roc_auc_score(y_test, rf.predict_proba(X_test)[:, 1])\n",
    "svc_auc = roc_auc_score(y_test, svc.decision_function(X_test))\n",
    "\n",
    "print(\"AUC for Random Forest: {:.3f}\".format(rf_auc))\n",
    "print(\"AUC for SVC: {:.3f}\".format(svc_auc))"
   ]
  },
  {
   "cell_type": "markdown",
   "metadata": {},
   "source": [
    "- AUC 측면에서 RandomForest 모델이 SVC 보다 좀 더 좋다고 볼 수 있음"
   ]
  },
  {
   "cell_type": "code",
   "execution_count": 29,
   "metadata": {},
   "outputs": [
    {
     "name": "stdout",
     "output_type": "stream",
     "text": [
      "gamma = 1.00  accuracy = 0.90  AUC = 0.50\n",
      "gamma = 0.05  accuracy = 0.90  AUC = 1.00\n",
      "gamma = 0.01  accuracy = 0.90  AUC = 1.00\n"
     ]
    },
    {
     "data": {
      "text/plain": [
       "<matplotlib.legend.Legend at 0x2217a9410f0>"
      ]
     },
     "execution_count": 29,
     "metadata": {},
     "output_type": "execute_result"
    },
    {
     "data": {
      "image/png": "[encoded data removed]",
      "text/plain": [
       "<matplotlib.figure.Figure at 0x2217a8a3748>"
      ]
     },
     "metadata": {},
     "output_type": "display_data"
    }
   ],
   "source": [
    "y = digits.target == 9\n",
    "\n",
    "X_train, X_test, y_train, y_test = train_test_split(digits.data, y, random_state=0)\n",
    "\n",
    "plt.figure()\n",
    "\n",
    "for gamma in [1, 0.05, 0.01]:\n",
    "    svc = SVC(gamma=gamma).fit(X_train, y_train)\n",
    "    \n",
    "    accuracy = svc.score(X_test, y_test)\n",
    "    auc = roc_auc_score(y_test, svc.decision_function(X_test))\n",
    "    fpr, tpr, _ = roc_curve(y_test , svc.decision_function(X_test))\n",
    "\n",
    "    print(\"gamma = {:.2f}  accuracy = {:.2f}  AUC = {:.2f}\".format(gamma, accuracy, auc))\n",
    "    plt.plot(fpr, tpr, label=\"gamma={:.3f}\".format(gamma))\n",
    "    \n",
    "plt.xlabel(\"FPR\")\n",
    "plt.ylabel(\"TPR\")\n",
    "plt.xlim(-0.01, 1)\n",
    "plt.ylim(0, 1.02)\n",
    "plt.legend(loc=\"best\")"
   ]
  },
  {
   "cell_type": "markdown",
   "metadata": {},
   "source": [
    "#### Multi-class classification\n",
    "- 다중클래스 분류문제에서 불균형 데이터에 대해서 Accuracy(정확도) 지표는 좋은 지표가 되지 못함.\n",
    "  - 훈련 샘플 비율\n",
    "    - A 클래스: 85%\n",
    "    - B 클래스: 10%\n",
    "    - C 클래스: 5%\n",
    "  - 실제 새로운 데이터도 위와 같은 비율로 출현한다고 하면 아무런 학습이 안된 모델 (Dummy Model)도 85% 정확도를 산출할 수 있음."
   ]
  },
  {
   "cell_type": "code",
   "execution_count": 30,
   "metadata": {},
   "outputs": [
    {
     "name": "stdout",
     "output_type": "stream",
     "text": [
      "Shape of Test data: (450,)\n",
      "Accuracy: 0.953\n",
      "\n",
      "Confusion matrix:\n",
      "[[37  0  0  0  0  0  0  0  0  0]\n",
      " [ 0 39  0  0  0  0  2  0  2  0]\n",
      " [ 0  0 41  3  0  0  0  0  0  0]\n",
      " [ 0  0  1 43  0  0  0  0  0  1]\n",
      " [ 0  0  0  0 38  0  0  0  0  0]\n",
      " [ 0  1  0  0  0 47  0  0  0  0]\n",
      " [ 0  0  0  0  0  0 52  0  0  0]\n",
      " [ 0  1  0  1  1  0  0 45  0  0]\n",
      " [ 0  3  1  0  0  0  0  0 43  1]\n",
      " [ 0  0  0  1  0  1  0  0  1 44]]\n"
     ]
    }
   ],
   "source": [
    "from sklearn.metrics import accuracy_score\n",
    "\n",
    "X_train, X_test, y_train, y_test = train_test_split(digits.data, digits.target, random_state=0)\n",
    "\n",
    "lr = LogisticRegression().fit(X_train, y_train)\n",
    "pred = lr.predict(X_test)\n",
    "\n",
    "print(\"Shape of Test data: {}\".format(y_test.shape))\n",
    "print(\"Accuracy: {:.3f}\".format(accuracy_score(y_test, pred)))\n",
    "print()\n",
    "print(\"Confusion matrix:\\n{}\".format(confusion_matrix(y_test, pred)))"
   ]
  },
  {
   "cell_type": "markdown",
   "metadata": {},
   "source": [
    "- 다중 클래스 예측 결과에 대한 confusion matrix \n",
    "  - 행: 정답 레이블\n",
    "  - 열: 예측 레이블\n",
    "- 위 confusion matrix에서 레이블 0에 대한 해석\n",
    "$\n",
    "\\begin{bmatrix}\n",
    "    TN & FP \\\\\n",
    "    FN & TP\n",
    "\\end{bmatrix}\n",
    "=\n",
    "\\begin{bmatrix}\n",
    "    413 & 0 \\\\\n",
    "    0 & 37\n",
    "\\end{bmatrix}\n",
    "$\n",
    "  - 클래스 0에 대해서는 거짓 음성(FN)이 없음\n",
    "    - 첫번째 행(예측 레이블 행)에서 다른 항목들이 모두 0\n",
    "  - 클래스 0에 대해서는 거짓 양성(FP)이 없음\n",
    "    - 첫번째 열(정답 레이블 열)에서 다른 항목들이 모두 0\n",
    "  - Accuracy = 1.0\n",
    "  - Precision = 1.0\n",
    "  - Recall = 1.0\n",
    "  - F1-score = 1.0\n",
    "<br/>\n",
    "- 위 confusion matrix에서 레이블 1에 대한 해석    $\n",
    "\\begin{bmatrix}\n",
    "    TN & FP \\\\\n",
    "    FN & TP\n",
    "\\end{bmatrix}\n",
    "=\n",
    "\\begin{bmatrix}\n",
    "    402 & 5 \\\\\n",
    "    4 & 39\n",
    "\\end{bmatrix}\n",
    "$\n",
    "  - 클래스 1에 대해서는 거짓 음성(FN)이 4건\n",
    "  - 클래스 1에 대해서는 거짓 양성(FP)이 5건\n",
    "  - Accuracy = (402+39)/450 = 0.98\n",
    "  - Precision = 39/(39+5) = 0.89\n",
    "  - Recall = 39/(4+39) = 0.91\n",
    "  - F1-score = 2 x 0.89 x 0.91 / (0.89 + 0.91) = 0.90\n",
    "\n",
    "\n",
    "- 위 confusion matrix에서 레이블 7에 대한 해석    $\n",
    "\\begin{bmatrix}\n",
    "    TN & FP \\\\\n",
    "    FN & TP\n",
    "\\end{bmatrix}\n",
    "=\n",
    "\\begin{bmatrix}\n",
    "    402 & 0 \\\\\n",
    "    3 & 45\n",
    "\\end{bmatrix}\n",
    "$\n",
    "  - 클래스 7에 대해서는 거짓 음성(FN)이 3건\n",
    "  - 클래스 7에 대해서는 거짓 양성(FP)이 0건\n",
    "  - Accuracy = (402+45)/450 = 0.99\n",
    "  - Precision = 45/45 = 1.0\n",
    "  - Recall = 45/(3+45) = 0.94\n",
    "  - F1-score = 2 x 1.0 x 0.94 / (1.0 + 0.94) = 0.97"
   ]
  },
  {
   "cell_type": "code",
   "execution_count": 31,
   "metadata": {
    "hide_input": false
   },
   "outputs": [
    {
     "data": {
      "image/png": "[encoded data removed]",
      "text/plain": [
       "<matplotlib.figure.Figure at 0x2217aaf4860>"
      ]
     },
     "metadata": {},
     "output_type": "display_data"
    }
   ],
   "source": [
    "scores_image = mglearn.tools.heatmap(\n",
    "    confusion_matrix(y_test, pred), xlabel='Predicted label',\n",
    "    ylabel='True label', xticklabels=digits.target_names,\n",
    "    yticklabels=digits.target_names, cmap=plt.cm.gray_r, fmt=\"%d\")\n",
    "\n",
    "plt.title(\"Confusion matrix\")\n",
    "plt.gca().invert_yaxis()"
   ]
  },
  {
   "cell_type": "code",
   "execution_count": 32,
   "metadata": {},
   "outputs": [
    {
     "name": "stdout",
     "output_type": "stream",
     "text": [
      "             precision    recall  f1-score   support\n",
      "\n",
      "          0       1.00      1.00      1.00        37\n",
      "          1       0.89      0.91      0.90        43\n",
      "          2       0.95      0.93      0.94        44\n",
      "          3       0.90      0.96      0.92        45\n",
      "          4       0.97      1.00      0.99        38\n",
      "          5       0.98      0.98      0.98        48\n",
      "          6       0.96      1.00      0.98        52\n",
      "          7       1.00      0.94      0.97        48\n",
      "          8       0.93      0.90      0.91        48\n",
      "          9       0.96      0.94      0.95        47\n",
      "\n",
      "avg / total       0.95      0.95      0.95       450\n",
      "\n"
     ]
    }
   ],
   "source": [
    "print(classification_report(y_test, pred))"
   ]
  },
  {
   "cell_type": "markdown",
   "metadata": {},
   "source": [
    "- 관심있는 클래스를 양성, 그 외의 모든 클래스는 음성으로 두고 precision, recall, f1-score 계산"
   ]
  },
  {
   "cell_type": "markdown",
   "metadata": {},
   "source": [
    "- [NOTE] 다중 분류에서 불균형 데이터셋을 위해 가장 많이 사용되는 지표는 f1-score\n",
    "- 클래스별로 f1-score를 산출한 이후, 전체 클래스에 대한 평균 f1-score 산출 전략 (다중 클래스일 때 반드시 아래 세 개의 항목 중 하나를 average 파라미터 값으로 제시해야 함)\n",
    "  - macro 평균\n",
    "    - 클래스별 f1-score에 가중치를 고려하지 않음\n",
    "  - weighted 평균 (보통은 이것을 선택)\n",
    "    - 클래스별 테스트 데이터 샘플 수로 가중치를 두어 f1-score 계산 (classification_report에 노출되는 값)\n",
    "  - micro 평균\n",
    "    - 모든 클래스별로 FP, FN, TP의 총 수를 헤아린 다음 산출"
   ]
  },
  {
   "cell_type": "code",
   "execution_count": 33,
   "metadata": {},
   "outputs": [
    {
     "name": "stdout",
     "output_type": "stream",
     "text": [
      "Macro average f1 score: 0.954\n",
      "Weighted average f1 score: 0.953\n",
      "Micro average f1 score: 0.953\n"
     ]
    }
   ],
   "source": [
    "print(\"Macro average f1 score: {:.3f}\".format(f1_score(y_test, pred, average=\"macro\")))\n",
    "\n",
    "print(\"Weighted average f1 score: {:.3f}\".format(f1_score(y_test, pred, average=\"weighted\")))\n",
    "\n",
    "print(\"Micro average f1 score: {:.3f}\".format(f1_score(y_test, pred, average=\"micro\")))"
   ]
  },
  {
   "cell_type": "markdown",
   "metadata": {},
   "source": [
    "#### Regression metrics\n",
    "- [note]: http://scikit-learn.org/stable/modules/model_evaluation.html#regression-metrics\n",
    "<br/><br/>\n",
    "- **Explained variance score**\n",
    "![...](http://scikit-learn.org/stable/_images/math/494cda4d8d05a44aa9aa20de549468e4d121e04c.png)\n",
    "\n",
    "  - $\\hat{y}$: the estimated target output\n",
    "  - $y$: the corresponding (correct) target output\n",
    "  - $Var$: Variance"
   ]
  },
  {
   "cell_type": "markdown",
   "metadata": {},
   "source": [
    "- **Mean absolute error**\n",
    "![...](http://scikit-learn.org/stable/_images/math/c38d771fb5eb121916c06cf8c651363583d17794.png)\n",
    "\n",
    "  - $\\hat{y}_i$: the predicted value of the $i$-th sample \n",
    "  - $y_i$: the corresponding (correct) target output\n",
    "  - $n_{samples}$: the number of target samples"
   ]
  },
  {
   "cell_type": "markdown",
   "metadata": {},
   "source": [
    "- **Mean squared error**\n",
    "![...](http://scikit-learn.org/stable/_images/math/44f36557fef9b30b077b21550490a1b9a0ade154.png)\n",
    "\n",
    "  - $\\hat{y}_i$: the predicted value of the $i$-th sample \n",
    "  - $y_i$: the corresponding (correct) target output\n",
    "  - $n_{samples}$: the number of target samples"
   ]
  },
  {
   "cell_type": "markdown",
   "metadata": {},
   "source": [
    "- **Mean squared logarithmic error**\n",
    "![...](http://scikit-learn.org/stable/_images/math/7ab9dd9a29d207d773d08e4d1a0fc370f9b1fa35.png)\n",
    "  - This metric is best to use when targets having exponential growth, such as population counts, average sales of a commodity over a span of years etc.\n",
    "  - $\\hat{y}_i$: the predicted value of the $i$-th sample \n",
    "  - $y_i$: the corresponding (correct) target output\n",
    "  - $n_{samples}$: the number of target samples"
   ]
  },
  {
   "cell_type": "markdown",
   "metadata": {},
   "source": [
    "- **Median absolute error**\n",
    "![...](http://scikit-learn.org/stable/_images/math/9252f9de0d8c2043cf34a26e6f2643a6e66540b9.png)\n",
    "  - It is particularly interesting because it is robust to outliers.\n",
    "  - The loss is calculated by taking the median of all absolute differences between the target and the prediction.\n",
    "  - $\\hat{y}_i$: the predicted value of the $i$-th sample \n",
    "  - $y_i$: the corresponding (correct) target output"
   ]
  },
  {
   "cell_type": "markdown",
   "metadata": {},
   "source": [
    "- **$R^2$ score (the coefficient of determination)**\n",
    "![...](http://scikit-learn.org/stable/_images/math/bdab7d608c772b3e382e2822a73ef557c80fbca2.png)\n",
    "  - where \n",
    "![...](http://scikit-learn.org/stable/_images/math/4b4e8ee0c1363ed7f781ed3a12073cfd169e3f79.png)\n",
    "  - It provides a measure of how well future samples are likely to be predicted by the model.\n",
    "  - $\\hat{y}_i$: the predicted value of the $i$-th sample \n",
    "  - $y_i$: the corresponding (correct) target output"
   ]
  },
  {
   "cell_type": "code",
   "execution_count": 34,
   "metadata": {},
   "outputs": [
    {
     "name": "stdout",
     "output_type": "stream",
     "text": [
      "explained_variance_score: 0.9571734475374732\n",
      "mean_absolute_error: 0.5\n",
      "mean_squared_error: 0.375\n",
      "mean_squared_log_error: 0.12803912255571967\n",
      "median_absolute_error: 0.5\n",
      "r2_score: 0.9486081370449679\n"
     ]
    }
   ],
   "source": [
    "from sklearn.metrics import explained_variance_score\n",
    "from sklearn.metrics import mean_absolute_error\n",
    "from sklearn.metrics import mean_squared_error\n",
    "from sklearn.metrics import mean_squared_log_error\n",
    "from sklearn.metrics import median_absolute_error\n",
    "from sklearn.metrics import r2_score\n",
    "\n",
    "y_test = [3, -0.5, 2, 7]\n",
    "y_pred = [2.5, 0.0, 2, 8]\n",
    "\n",
    "print(\"explained_variance_score:\", explained_variance_score(y_test, y_pred))\n",
    "print(\"mean_absolute_error:\", mean_absolute_error(y_test, y_pred))\n",
    "print(\"mean_squared_error:\", mean_squared_error(y_test, y_pred))\n",
    "print(\"mean_squared_log_error:\", mean_squared_log_error(y_test, y_pred))\n",
    "print(\"median_absolute_error:\", median_absolute_error(y_test, y_pred))\n",
    "print(\"r2_score:\", r2_score(y_test, y_pred))"
   ]
  },
  {
   "cell_type": "markdown",
   "metadata": {},
   "source": [
    "- [NOTE]: 전형적인 교차검증을 활용한 Regression 모델 구성 및 성능 측정 "
   ]
  },
  {
   "cell_type": "code",
   "execution_count": 39,
   "metadata": {},
   "outputs": [
    {
     "name": "stdout",
     "output_type": "stream",
     "text": [
      "X shape: (200, 1)\n",
      "y shape: (200,)\n",
      "X_train shape: (150, 1)\n",
      "X_test shape: (50, 1)\n",
      "\n",
      "Best cross-validation accuracy: 0.67\n",
      "Best parameters:\n",
      "{'alpha': 0.1, 'learning_rate': 0.1}\n",
      "Best estimator:\n",
      "GradientBoostingRegressor(alpha=0.1, criterion='friedman_mse', init=None,\n",
      "             learning_rate=0.1, loss='ls', max_depth=3, max_features=None,\n",
      "             max_leaf_nodes=None, min_impurity_decrease=0.0,\n",
      "             min_impurity_split=None, min_samples_leaf=1,\n",
      "             min_samples_split=2, min_weight_fraction_leaf=0.0,\n",
      "             n_estimators=100, presort='auto', random_state=None,\n",
      "             subsample=1.0, verbose=0, warm_start=False)\n",
      "Test set score: 0.62\n"
     ]
    },
    {
     "ename": "TypeError",
     "evalue": "predict() missing 1 required positional argument: 'X'",
     "output_type": "error",
     "traceback": [
      "\u001b[1;31m---------------------------------------------------------------------------\u001b[0m",
      "\u001b[1;31mTypeError\u001b[0m                                 Traceback (most recent call last)",
      "\u001b[1;32m<ipython-input-39-1d4eee3a6cfb>\u001b[0m in \u001b[0;36m<module>\u001b[1;34m()\u001b[0m\n\u001b[0;32m     36\u001b[0m \u001b[0mprint\u001b[0m\u001b[1;33m(\u001b[0m\u001b[1;34m\"Test set score: {:.2f}\"\u001b[0m\u001b[1;33m.\u001b[0m\u001b[0mformat\u001b[0m\u001b[1;33m(\u001b[0m\u001b[0mgrid_search\u001b[0m\u001b[1;33m.\u001b[0m\u001b[0mscore\u001b[0m\u001b[1;33m(\u001b[0m\u001b[0mX_test\u001b[0m\u001b[1;33m,\u001b[0m \u001b[0my_test\u001b[0m\u001b[1;33m)\u001b[0m\u001b[1;33m)\u001b[0m\u001b[1;33m)\u001b[0m\u001b[1;33m\u001b[0m\u001b[0m\n\u001b[0;32m     37\u001b[0m \u001b[1;33m\u001b[0m\u001b[0m\n\u001b[1;32m---> 38\u001b[1;33m \u001b[0my_pred\u001b[0m \u001b[1;33m=\u001b[0m \u001b[0mgbr\u001b[0m\u001b[1;33m.\u001b[0m\u001b[0mpredict\u001b[0m\u001b[1;33m(\u001b[0m\u001b[0mX_test\u001b[0m\u001b[1;33m)\u001b[0m\u001b[1;33m\u001b[0m\u001b[0m\n\u001b[0m\u001b[0;32m     39\u001b[0m \u001b[1;33m\u001b[0m\u001b[0m\n\u001b[0;32m     40\u001b[0m \u001b[0mprint\u001b[0m\u001b[1;33m(\u001b[0m\u001b[1;33m)\u001b[0m\u001b[1;33m\u001b[0m\u001b[0m\n",
      "\u001b[1;31mTypeError\u001b[0m: predict() missing 1 required positional argument: 'X'"
     ]
    }
   ],
   "source": [
    "import warnings\n",
    "warnings.filterwarnings('ignore')\n",
    "from sklearn.ensemble import GradientBoostingRegressor as gbr\n",
    "from sklearn.model_selection import GridSearchCV\n",
    "\n",
    "X, y = mglearn.datasets.make_wave(n_samples=200)\n",
    "print(\"X shape: {}\".format(X.shape))\n",
    "print(\"y shape: {}\".format(y.shape))\n",
    "\n",
    "X_train, X_test, y_train, y_test = train_test_split(X, y, random_state=42)\n",
    "print(\"X_train shape: {}\".format(X_train.shape))\n",
    "print(\"X_test shape: {}\".format(X_test.shape))\n",
    "\n",
    "print()\n",
    "\n",
    "param_grid = {    \n",
    "    'learning_rate': [0.001, 0.01, 0.1, 1, 10, 100],\n",
    "    'alpha': [0.1, 0.3, 0.5, 0.7, 0.9]\n",
    "}\n",
    "\n",
    "estimator = GradientBoostingRegressor()\n",
    "\n",
    "grid_search = GridSearchCV(\n",
    "    estimator = estimator, \n",
    "    param_grid = param_grid, \n",
    "    n_jobs = -1, \n",
    "    cv = 5, \n",
    "    return_train_score = True\n",
    ")\n",
    "\n",
    "grid_search.fit(X_train, y_train)\n",
    "print(\"Best cross-validation accuracy: {:.2f}\".format(grid_search.best_score_))\n",
    "print(\"Best parameters:\\n{}\".format(grid_search.best_params_))\n",
    "print(\"Best estimator:\\n{}\".format(grid_search.best_estimator_))\n",
    "\n",
    "print(\"Test set score: {:.2f}\".format(grid_search.score(X_test, y_test)))\n",
    "\n",
    "y_pred = gbr.predict(X_test)\n",
    "\n",
    "print()\n",
    "\n",
    "# Possible scoring\n",
    "print(\"explained_variance_score:\", explained_variance_score(y_test, y_pred))\n",
    "print(\"mean_absolute_error:\", mean_absolute_error(y_test, y_pred))\n",
    "print(\"mean_squared_error:\", mean_squared_error(y_test, y_pred))\n",
    "#print(\"mean_squared_log_error:\", mean_squared_log_error(y_test, y_pred))\n",
    "print(\"median_absolute_error:\", median_absolute_error(y_test, y_pred))\n",
    "print(\"r2_score:\", r2_score(y_test, y_pred))"
   ]
  },
  {
   "cell_type": "markdown",
   "metadata": {},
   "source": [
    "### Using evaluation metrics in model selection\n",
    "- [note]: http://scikit-learn.org/stable/modules/model_evaluation.html#scoring-parameter"
   ]
  },
  {
   "cell_type": "markdown",
   "metadata": {},
   "source": [
    "- 이진 분류"
   ]
  },
  {
   "cell_type": "code",
   "execution_count": 40,
   "metadata": {},
   "outputs": [
    {
     "name": "stdout",
     "output_type": "stream",
     "text": [
      "Default scoring: [0.89983306 0.89983306 0.89983306]\n",
      "Explicit accuracy scoring: [0.89983306 0.89983306 0.89983306]\n",
      "\n",
      "ROC_AUC scoring: [0.99372294 0.98957947 0.99594929]\n",
      "Average Precision scoring: [0.95991892 0.95348603 0.97765719]\n",
      "\n",
      "Precision scoring: [0.80969953 0.80969953 0.80969953]\n",
      "Precision scoring: [0.89983306 0.89983306 0.89983306]\n",
      "F1_score scoring: [0.85239019 0.85239019 0.85239019]\n"
     ]
    }
   ],
   "source": [
    "from sklearn.model_selection import cross_val_score\n",
    "\n",
    "# default scoring for classification is accuracy\n",
    "scores = cross_val_score(SVC(), digits.data, digits.target == 9)\n",
    "print(\"Default scoring: {}\".format(scores))\n",
    "\n",
    "# providing scoring=\"accuracy\" doesn't change the results\n",
    "scores2 = cross_val_score(SVC(), digits.data, digits.target == 9, scoring=\"accuracy\")\n",
    "print(\"Explicit accuracy scoring: {}\".format(scores2))\n",
    "\n",
    "print()\n",
    "\n",
    "# 곡선의 면적을 활용한 성능 측정 (Recommended)\n",
    "roc_auc = cross_val_score(SVC(), digits.data, digits.target == 9, scoring=\"roc_auc\")\n",
    "print(\"ROC_AUC scoring: {}\".format(roc_auc))\n",
    "\n",
    "average_precision = cross_val_score(SVC(), digits.data, digits.target == 9, scoring=\"average_precision\")\n",
    "print(\"Average Precision scoring: {}\".format(average_precision))\n",
    "\n",
    "print()\n",
    "\n",
    "# 다양한 성능 측정 (Not Recommended)\n",
    "precision = cross_val_score(SVC(), digits.data, digits.target == 9, scoring=\"precision_weighted\")\n",
    "print(\"Precision scoring: {}\".format(precision))\n",
    "\n",
    "recall = cross_val_score(SVC(), digits.data, digits.target == 9, scoring=\"recall_weighted\")\n",
    "print(\"Precision scoring: {}\".format(recall))\n",
    "\n",
    "f1_score = cross_val_score(SVC(), digits.data, digits.target == 9, scoring=\"f1_weighted\")\n",
    "print(\"F1_score scoring: {}\".format(f1_score))"
   ]
  },
  {
   "cell_type": "markdown",
   "metadata": {},
   "source": [
    "- 다중 분류"
   ]
  },
  {
   "cell_type": "code",
   "execution_count": 41,
   "metadata": {},
   "outputs": [
    {
     "name": "stdout",
     "output_type": "stream",
     "text": [
      "Explicit accuracy scoring: [0.39368771 0.41068447 0.45973154]\n",
      "F1_weighted scoring: [0.43853936 0.4627956  0.5243751 ]\n"
     ]
    }
   ],
   "source": [
    "scores = cross_val_score(SVC(), digits.data, digits.target, scoring=\"accuracy\")\n",
    "print(\"Explicit accuracy scoring: {}\".format(scores))\n",
    "\n",
    "f1_weighted = cross_val_score(SVC(), digits.data, digits.target, scoring=\"f1_weighted\")\n",
    "print(\"F1_weighted scoring: {}\".format(f1_weighted))"
   ]
  },
  {
   "cell_type": "markdown",
   "metadata": {},
   "source": [
    "- GridSearchCV에 다양한 scoring 적용 "
   ]
  },
  {
   "cell_type": "code",
   "execution_count": 42,
   "metadata": {},
   "outputs": [
    {
     "name": "stdout",
     "output_type": "stream",
     "text": [
      "Grid-Search with accuracy\n",
      "Best parameters: {'gamma': 0.0001}\n",
      "Best cross-validation score (accuracy)): 0.970\n",
      "Test set AUC: 0.992\n",
      "Test set accuracy: 0.973\n",
      "\n",
      "Grid-Search with AUC\n",
      "Best parameters: {'gamma': 0.01}\n",
      "Best cross-validation score (AUC): 0.997\n",
      "Test set AUC: 1.000\n",
      "Test set accuracy: 1.000\n"
     ]
    }
   ],
   "source": [
    "X_train, X_test, y_train, y_test = train_test_split(digits.data, digits.target == 9, random_state=0)\n",
    "\n",
    "# we provide a somewhat bad grid to illustrate the point:\n",
    "param_grid = {'gamma': [0.0001, 0.01, 0.1, 1, 10]}\n",
    "\n",
    "# using the default scoring of accuracy:\n",
    "grid = GridSearchCV(SVC(), param_grid=param_grid)\n",
    "grid.fit(X_train, y_train)\n",
    "print(\"Grid-Search with accuracy\")\n",
    "print(\"Best parameters:\", grid.best_params_)\n",
    "print(\"Best cross-validation score (accuracy)): {:.3f}\".format(grid.best_score_))\n",
    "print(\"Test set AUC: {:.3f}\".format(roc_auc_score(y_test, grid.decision_function(X_test))))\n",
    "print(\"Test set accuracy: {:.3f}\".format(grid.score(X_test, y_test)))\n",
    "\n",
    "print()\n",
    "\n",
    "# using AUC scoring instead:\n",
    "grid = GridSearchCV(SVC(), param_grid=param_grid, scoring=\"roc_auc\")\n",
    "grid.fit(X_train, y_train)\n",
    "print(\"Grid-Search with AUC\")\n",
    "print(\"Best parameters:\", grid.best_params_)\n",
    "print(\"Best cross-validation score (AUC): {:.3f}\".format(grid.best_score_))\n",
    "print(\"Test set AUC: {:.3f}\".format(roc_auc_score(y_test, grid.decision_function(X_test))))\n",
    "print(\"Test set accuracy: {:.3f}\".format(grid.score(X_test, y_test)))"
   ]
  },
  {
   "cell_type": "code",
   "execution_count": 43,
   "metadata": {},
   "outputs": [
    {
     "name": "stdout",
     "output_type": "stream",
     "text": [
      "Available scorers:\n",
      "['accuracy', 'adjusted_mutual_info_score', 'adjusted_rand_score', 'average_precision', 'completeness_score', 'explained_variance', 'f1', 'f1_macro', 'f1_micro', 'f1_samples', 'f1_weighted', 'fowlkes_mallows_score', 'homogeneity_score', 'log_loss', 'mean_absolute_error', 'mean_squared_error', 'median_absolute_error', 'mutual_info_score', 'neg_log_loss', 'neg_mean_absolute_error', 'neg_mean_squared_error', 'neg_mean_squared_log_error', 'neg_median_absolute_error', 'normalized_mutual_info_score', 'precision', 'precision_macro', 'precision_micro', 'precision_samples', 'precision_weighted', 'r2', 'recall', 'recall_macro', 'recall_micro', 'recall_samples', 'recall_weighted', 'roc_auc', 'v_measure_score']\n"
     ]
    }
   ],
   "source": [
    "from sklearn.metrics.scorer import SCORERS\n",
    "print(\"Available scorers:\\n{}\".format(sorted(SCORERS.keys())))"
   ]
  },
  {
   "cell_type": "markdown",
   "metadata": {},
   "source": [
    "### Summary and Outlook"
   ]
  }
 ],
 "metadata": {
  "anaconda-cloud": {},
  "kernelspec": {
   "display_name": "Python 3",
   "language": "python",
   "name": "python3"
  },
  "language_info": {
   "codemirror_mode": {
    "name": "ipython",
    "version": 3
   },
   "file_extension": ".py",
   "mimetype": "text/x-python",
   "name": "python",
   "nbconvert_exporter": "python",
   "pygments_lexer": "ipython3",
   "version": "3.6.4"
  }
 },
 "nbformat": 4,
 "nbformat_minor": 1
}
